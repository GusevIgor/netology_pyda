{
 "cells": [
  {
   "cell_type": "markdown",
   "metadata": {},
   "source": [
    "### Цикл для fizz buzz"
   ]
  },
  {
   "cell_type": "code",
   "execution_count": null,
   "metadata": {},
   "outputs": [],
   "source": [
    "n=int(input(\"Сколько чисел выводить? --> \"))  \n",
    "a=[]                            #Создаем список\n",
    "for i in range(1,n+1):            \n",
    "    if i%3 == 0 and i%5 == 0:   #Если одновременно кратно 3 и 5\n",
    "        a.append('fizz buzz')\n",
    "    elif i%3 == 0:              #Если только 3\n",
    "        a.append(\"fizz\")\n",
    "    elif i%5 == 0:              #Если только 5   \n",
    "        a.append(\"buzz\")\n",
    "    else:                       #Если не 3 и не 5\n",
    "        a.append(i)\n",
    "print(a)"
   ]
  },
  {
   "cell_type": "markdown",
   "metadata": {},
   "source": [
    "### Генерим периодичный бинарный сигнал для теста во втором задании"
   ]
  },
  {
   "cell_type": "code",
   "execution_count": null,
   "metadata": {},
   "outputs": [],
   "source": [
    "phase_str = input(\"Введите последовательность из 0 и 1 без пробелов -->\")\n",
    "num_phases = int(input(\"Введите число таких последовательностей в сигнале -->\"))\n",
    "#Генерим входной сигнал\n",
    "seq = [int(i) for k in range(num_phases) for i in phase_str]    \n",
    "print(seq)"
   ]
  },
  {
   "cell_type": "markdown",
   "metadata": {},
   "source": [
    "### Теперь типа сигнал не мы делали и ищем в бинарном сигнале ищем период.  \n",
    "Копируем список и сдвигаем второй относительно первого до тех пор, пока снова не совпадут. Длинна смещения будет равна периоду."
   ]
  },
  {
   "cell_type": "code",
   "execution_count": null,
   "metadata": {},
   "outputs": [],
   "source": [
    "length = len(seq)                              #длинна сигнала\n",
    "for i in range(length):                        #сдвигаем сигнал относительно самого себя\n",
    "    if seq[i:] == seq[:-i]:                    #как только сигнал совпал со сдвинутым, кричим ура!\n",
    "        print(\"Ура!!! длинна периода = \",i)\n",
    "        print(\"А сама фаза = \", seq[:i])\n",
    "        break\n",
    "    "
   ]
  },
  {
   "cell_type": "markdown",
   "metadata": {},
   "source": [
    "## Сделаем про центр слова, хотя про поезд задача прикольней. \n",
    "### но ее напоследок оставлю."
   ]
  },
  {
   "cell_type": "code",
   "execution_count": 2,
   "metadata": {},
   "outputs": [
    {
     "name": "stdout",
     "output_type": "stream",
     "text": [
      "Введите слово -->hjslksdlhflsdhflsdfn\n",
      "fl\n"
     ]
    }
   ],
   "source": [
    "word = input(\"Введите слово -->\")\n",
    "length_word = len(word)\n",
    "pos = length_word // 2\n",
    "if length_word % 2 == 0:               #Длинна четная\n",
    "    print(word[pos-1:pos+1])\n",
    "else:                                  #Длинна нечетная\n",
    "    print(word[pos])"
   ]
  },
  {
   "cell_type": "markdown",
   "metadata": {},
   "source": [
    "## Поезд.  Прикольная задача. "
   ]
  },
  {
   "cell_type": "markdown",
   "metadata": {},
   "source": [
    "### Сначала построим поезд и посадим себя в случайный вагон.  Все по честному."
   ]
  },
  {
   "cell_type": "code",
   "execution_count": 3,
   "metadata": {},
   "outputs": [
    {
     "name": "stdout",
     "output_type": "stream",
     "text": [
      "259 146\n"
     ]
    }
   ],
   "source": [
    "import random\n",
    "#Количество вагонов \n",
    "vag_num = random.randint(100,500)      \n",
    "\n",
    "#Cлучайным образом включим / выключим свет в вагонах\n",
    "S = [random.randint(0,1) for i in range(0,vag_num)]   \n",
    "\n",
    "#Посадим себя в случайный вагон\n",
    "our_vag = random.randint(100,vag_num)                                     \n",
    "\n",
    "print(vag_num, our_vag)\n",
    "\n",
    "#Включаем свет в нашем вагоне, если он еще не горит.\n",
    "if S[our_vag] == 0:\n",
    "    S[our_vag] = 1"
   ]
  },
  {
   "cell_type": "markdown",
   "metadata": {},
   "source": [
    "### Ну решение там написано, поэтому просто запрограммирую алгоритм.  \n",
    "Можно было сделать класс ring_train, чтобы не мучиться с контролем конца списка, ну я еще не очень хорошо знаю синтаксис классов в Python."
   ]
  },
  {
   "cell_type": "code",
   "execution_count": 4,
   "metadata": {},
   "outputs": [],
   "source": [
    "#Включаем свет в нашем вагоне, если он еще не горит.\n",
    "if S[our_vag] == 0:\n",
    "    S[our_vag] = 1"
   ]
  },
  {
   "cell_type": "code",
   "execution_count": 5,
   "metadata": {},
   "outputs": [
    {
     "name": "stdout",
     "output_type": "stream",
     "text": [
      "Длинна поезда =  259\n"
     ]
    }
   ],
   "source": [
    "#Пошли вперед. Считаем вагоны от нашего. \n",
    "#Если находим вагон с включенным светом - выключаем \n",
    "current_vag = our_vag\n",
    "train_length = 0\n",
    "while S[our_vag] == 1:                #Пока не гаснет свет... в нашем вагоне\n",
    "    current_vag = current_vag + 1     #Пошли по вагонам и их считаем\n",
    "    train_length = train_length + 1\n",
    "    try:                              #Проверка выхода за границу списка\n",
    "        S[current_vag]\n",
    "    except IndexError:                #Вышли за границу списка\n",
    "        current_vag = 0               #...и мы снова в вагоне номер 0\n",
    "    if S[current_vag] == 1:           #Если свет горит - выключам\n",
    "        S[current_vag] = 0   \n",
    "print(\"Длинна поезда = \",train_length)"
   ]
  },
  {
   "cell_type": "code",
   "execution_count": null,
   "metadata": {},
   "outputs": [],
   "source": []
  }
 ],
 "metadata": {
  "kernelspec": {
   "display_name": "Python 3",
   "language": "python",
   "name": "python3"
  },
  "language_info": {
   "codemirror_mode": {
    "name": "ipython",
    "version": 3
   },
   "file_extension": ".py",
   "mimetype": "text/x-python",
   "name": "python",
   "nbconvert_exporter": "python",
   "pygments_lexer": "ipython3",
   "version": "3.7.1"
  }
 },
 "nbformat": 4,
 "nbformat_minor": 2
}
