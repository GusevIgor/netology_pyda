{
 "cells": [
  {
   "cell_type": "markdown",
   "metadata": {},
   "source": [
    "# Домашнее задание к лекции \"Регулярные выражения\"\n",
    "Для зачета необходимо выполнить 4 задания.  \n",
    "Для зачета с отличием – все."
   ]
  },
  {
   "cell_type": "markdown",
   "metadata": {},
   "source": [
    "## Задание 1"
   ]
  },
  {
   "cell_type": "markdown",
   "metadata": {},
   "source": [
    "Напишите функцию, которая принимает на вход строку и проверяет является ли она валидным транспортным номером. Если да, то функция должна возвращать отдельно номер и регион."
   ]
  },
  {
   "cell_type": "code",
   "execution_count": 1,
   "metadata": {},
   "outputs": [],
   "source": [
    "import re"
   ]
  },
  {
   "cell_type": "code",
   "execution_count": 232,
   "metadata": {},
   "outputs": [
    {
     "name": "stdout",
     "output_type": "stream",
     "text": [
      "Cерия 154 Номер А358Н\n"
     ]
    }
   ],
   "source": [
    "regnum = \" А358НМ154\"\n",
    "valid_symbols = r\"[АВЕКМНОРСТУХABEKMHOPCTYX]\"  #Валидные русские буквы, и на всякий случай, их латинский аналог\n",
    "pattern = r\"(?i)\\s*\"+valid_symbols+r\"\\s*\\d{3}\\s*\"+valid_symbols+r\"{2}\\s*\\d{2,3}$\" #Она case независима)))\n",
    "result = re.match(pattern, regnum)\n",
    "\n",
    "if(result):\n",
    "    regnum = re.sub(r\"\\s+\", \"\", regnum)\n",
    "    print(\"Cерия\", regnum[6:],  \"Номер\", regnum[:5])\n",
    "else:\n",
    "    print(\"номер не соответвует стандарту\")"
   ]
  },
  {
   "cell_type": "markdown",
   "metadata": {},
   "source": [
    "## Задание 2"
   ]
  },
  {
   "cell_type": "markdown",
   "metadata": {},
   "source": [
    "Напишите функцию, которая проверяет e-mail адрес на валидность по стандарту RFC822: http://www.w3.org/Protocols/rfc822/. Для этого постарайтесь написать (в крайнем случае найти) самый полный шаблон для проверки e-mail адресов через регулярное выражение. Разберитесь и напишите примеры, какие ваш шаблон может не охватить."
   ]
  },
  {
   "cell_type": "markdown",
   "metadata": {},
   "source": [
    "Это те примеры, которые может охватить.  В голову не приходят примеры мейлов, который остались неохваченными.  Навреняка есть.  Потому что в гите лежат такие regex - сы для проверки адресов, что на них даже смотреть страшно.  Этот я написал сам и он какой-то подозрительно простой."
   ]
  },
  {
   "cell_type": "code",
   "execution_count": 5,
   "metadata": {},
   "outputs": [],
   "source": [
    "mail_1 = \"Name_s-u.R_name48@domen_name.com.ru\"\n",
    "mail_2 = \"name1982@domen_name.ru\"\n",
    "mail_3 = \"name@domen.ru\""
   ]
  },
  {
   "cell_type": "code",
   "execution_count": 12,
   "metadata": {},
   "outputs": [],
   "source": [
    "def is_mail_valid(mail):\n",
    "    pattern = r'^\\S[A-Za-z0-9\\._-]*@[A-Za-z0-9_-]*\\.?[A-Za-z]{2,4}\\.{1}\\w{2,4}$'\n",
    "    result = re.findall(pattern, mail)\n",
    "    if result:\n",
    "        return True\n",
    "    else:\n",
    "        return False"
   ]
  },
  {
   "cell_type": "code",
   "execution_count": 13,
   "metadata": {},
   "outputs": [
    {
     "data": {
      "text/plain": [
       "True"
      ]
     },
     "execution_count": 13,
     "metadata": {},
     "output_type": "execute_result"
    }
   ],
   "source": [
    "is_mail_valid(mail_1)"
   ]
  },
  {
   "cell_type": "markdown",
   "metadata": {},
   "source": [
    "## Задание 3\n",
    "При помощи регулярных выражений напишите функцию, которая будет возвращать акроним переданного в нее текста."
   ]
  },
  {
   "cell_type": "code",
   "execution_count": 23,
   "metadata": {},
   "outputs": [],
   "source": [
    "text_1 = \"Light amplification by stimulated emission of radiation\"\n",
    "text_2 = \"North Atlantic Treaty Organization\"\n",
    "text_3 = \"Главный универсальный магазин\"\n",
    "text_4 = \"In my humble opinion\""
   ]
  },
  {
   "cell_type": "code",
   "execution_count": 32,
   "metadata": {},
   "outputs": [],
   "source": [
    "def get_acronim(text):\n",
    "    #Ненужные предлоги и вспомогательные части речи.  Выбраны творчески.  Как автоматизировать - непонятно\n",
    "    replace_aux_rus = r'(?<!\\S)(?:это|как|так|и|в|над|к|до|не|на|но|за|то|с|ли|а|во|от|со|для|о|же|ну|вы|бы|что|кто|он|она)(?!\\S)'\n",
    "    replace_aux_en =r'(?<!\\S)(?:that|the|and|on|in|over|till|a|of|but|under|from|with|to|by)(?!\\S)'\n",
    "    \n",
    "    #Regex для выбирания первой буквы слова\n",
    "    first_letters = r'\\b\\w'\n",
    "    \n",
    "    #Убираем лишние части речи\n",
    "    cut_text = re.sub(replace_aux_en, \"\", text)\n",
    "    cut_text = re.sub(replace_aux_rus, \"\", cut_text)\n",
    "    \n",
    "    #Делаем список их первых букв\n",
    "    res = re.findall(first_letters, cut_text)\n",
    "    \n",
    "    #Формируем акроним\n",
    "    acronim = \"\".join(res).upper()\n",
    "    \n",
    "    return acronim"
   ]
  },
  {
   "cell_type": "code",
   "execution_count": 33,
   "metadata": {},
   "outputs": [
    {
     "data": {
      "text/plain": [
       "'LASER'"
      ]
     },
     "execution_count": 33,
     "metadata": {},
     "output_type": "execute_result"
    }
   ],
   "source": [
    "get_acronim(text_1)"
   ]
  },
  {
   "cell_type": "markdown",
   "metadata": {},
   "source": [
    "## Задание 4\n",
    "Напишите функцию, которая будет удалять все последовательные повторы слов из заданной строки."
   ]
  },
  {
   "cell_type": "code",
   "execution_count": 171,
   "metadata": {},
   "outputs": [],
   "source": [
    "text_1 = \"Синий синий гражданин плохо плоХо говорит и глазами сильно сильно... в нашу сторону косит.\""
   ]
  },
  {
   "cell_type": "code",
   "execution_count": 172,
   "metadata": {},
   "outputs": [],
   "source": [
    "def remove_repeating_words(text):  \n",
    "    return re.sub(r\"(?i)\\b(\\w+)\\b\\s+(?=\\1)\", r\"\", text)"
   ]
  },
  {
   "cell_type": "code",
   "execution_count": 173,
   "metadata": {},
   "outputs": [
    {
     "data": {
      "text/plain": [
       "'синий гражданин плоХо говорит и глазами сильно... в нашу сторону косит.'"
      ]
     },
     "execution_count": 173,
     "metadata": {},
     "output_type": "execute_result"
    }
   ],
   "source": [
    "remove_repeating_words(text_1)"
   ]
  },
  {
   "cell_type": "markdown",
   "metadata": {},
   "source": [
    "## Задание 5\n",
    "Напишите функцию, которая будет проверять номер сотового телефона на валидность, если он валиден, то переводить его в формат:   \n",
    "+7(xxx)-xxx-xx-xx  \n",
    "Постарайтесь предусмотреть как можно больше адекватных форматов изначального ввода номера.\n",
    "Примеры правильных и неправильных форматов:\n",
    "- +1 555 555-55-55;\n",
    "- 5555555555;\n",
    "- 555555555;\n",
    "- 8(555)555-55-55;\n",
    "- +7 555 555 55 55;\n",
    "- 7(555) 555-55-55;\n",
    "- +7 555+555+55+55."
   ]
  },
  {
   "cell_type": "markdown",
   "metadata": {},
   "source": [
    "_Если я правильно понял задание, проверяем на валидность только номера в российском формате +7 (xxx)-xxx-xx-xx.  Иначе кранты.  Я в гите нашел regex для универсальной идентификации по региону, два дня на него смотрел, так и не понял, как оно работает.  Но работает.  Я написал свое, попроще..."
   ]
  },
  {
   "cell_type": "code",
   "execution_count": 273,
   "metadata": {},
   "outputs": [],
   "source": [
    "phones = [\n",
    "    \"89855555555\", \n",
    "    \"+7985-5555555\",\n",
    "    \"8(555)555-55-55\",\n",
    "    \"+7 555 555 55 55\",\n",
    "    \"7(555) 555-55-55\",\n",
    "    \"+7 555+555+55+55\",\n",
    "    \"8_(986)_882_88_32\",\n",
    "    \"7 (986):443:1256\"\n",
    "]"
   ]
  },
  {
   "cell_type": "code",
   "execution_count": 274,
   "metadata": {},
   "outputs": [],
   "source": [
    "def is_phone_valid(phone):\n",
    "    valid_phone = r\"^([+\\s]?[78])[- _():=+]*(\\d{3})[- _:=+)]*(\\d{0,3})[- _:=+]*(\\d{0,2})[- _:=+]*(\\d{0,2})\"\n",
    "    right_format = r\"+7(\\2)-\\3-\\4-\\5\"\n",
    "    result = re.sub(valid_phone, right_format, phone)\n",
    "    return result"
   ]
  },
  {
   "cell_type": "code",
   "execution_count": 275,
   "metadata": {},
   "outputs": [
    {
     "name": "stdout",
     "output_type": "stream",
     "text": [
      "+7(985)-555-55-55\n",
      "+7(985)-555-55-55\n",
      "+7(555)-555-55-55\n",
      "+7(555)-555-55-55\n",
      "+7(555)-555-55-55\n",
      "+7(555)-555-55-55\n",
      "+7(986)-882-88-32\n",
      "+7(986)-443-12-56\n"
     ]
    }
   ],
   "source": [
    "for num in phones:\n",
    "    print(is_phone_valid(num))"
   ]
  },
  {
   "cell_type": "code",
   "execution_count": null,
   "metadata": {},
   "outputs": [],
   "source": []
  },
  {
   "cell_type": "code",
   "execution_count": null,
   "metadata": {},
   "outputs": [],
   "source": []
  }
 ],
 "metadata": {
  "kernelspec": {
   "display_name": "Python 3",
   "language": "python",
   "name": "python3"
  },
  "language_info": {
   "codemirror_mode": {
    "name": "ipython",
    "version": 3
   },
   "file_extension": ".py",
   "mimetype": "text/x-python",
   "name": "python",
   "nbconvert_exporter": "python",
   "pygments_lexer": "ipython3",
   "version": "3.7.1"
  }
 },
 "nbformat": 4,
 "nbformat_minor": 2
}
