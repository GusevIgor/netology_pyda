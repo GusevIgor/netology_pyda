{
 "cells": [
  {
   "cell_type": "markdown",
   "metadata": {},
   "source": [
    "# Задание к лекции \"Функции\".\n",
    "Для зачета необходимо правильно выполнить 4 заданий из 6.  \n",
    "Для зачета с отличием – все 6."
   ]
  },
  {
   "cell_type": "markdown",
   "metadata": {},
   "source": [
    "## Задание 1"
   ]
  },
  {
   "cell_type": "markdown",
   "metadata": {},
   "source": [
    "Дан список вида:"
   ]
  },
  {
   "cell_type": "markdown",
   "metadata": {},
   "source": [
    "Напишите функцию, которая возвращает сумму элементов на диагонали. Т. е. 13+32+23+35.  \n",
    "Список может быть любой длины, но всегда является \"квадратным\" (количество элементов во вложенных списках равно их количеству)."
   ]
  },
  {
   "cell_type": "code",
   "execution_count": null,
   "metadata": {},
   "outputs": [],
   "source": [
    "data = [\n",
    "    [13, 25, 23, 34],\n",
    "    [45, 32, 44, 47],\n",
    "    [12, 33, 23, 95],\n",
    "    [13, 53, 34, 35]\n",
    "]"
   ]
  },
  {
   "cell_type": "code",
   "execution_count": null,
   "metadata": {},
   "outputs": [],
   "source": [
    "def sum_matrix_diagonal(matrix):\n",
    "    sdiag = 0\n",
    "    for i in range(len(matrix)):\n",
    "        sdiag += matrix[i][i]\n",
    "    return sdiag"
   ]
  },
  {
   "cell_type": "code",
   "execution_count": null,
   "metadata": {},
   "outputs": [],
   "source": [
    "print(\"Сумма диагонали матрицы = \", sum_matrix_diagonal(data))"
   ]
  },
  {
   "cell_type": "markdown",
   "metadata": {},
   "source": [
    "## Задание 2"
   ]
  },
  {
   "cell_type": "markdown",
   "metadata": {},
   "source": [
    "Напишите функцию, возвращающую сумму первых n чисел Фибоначчи (для этого вам может понадобится ознакомиться с рекурсией)."
   ]
  },
  {
   "cell_type": "code",
   "execution_count": null,
   "metadata": {},
   "outputs": [],
   "source": [
    "def sum_fibn(n, f0):\n",
    "    \"\"\"\n",
    "    Функция считает сумму n первых чисел ряда Фибоначчи.\n",
    "    f0 - первое число ряда.  Может быть 0 или 1.\n",
    "    \"\"\"\n",
    "    if f0 not in (0,1):\n",
    "        print(\"Значение второго агрумента может быть 0 либо 1\")\n",
    "        return\n",
    "    \n",
    "    fibn = lambda n: fibn(n-2) + fibn(n-1) if n > 1 else [f0,1][n]  #Рекурсивная процедура для F(n)\n",
    "    res = {i:fibn(i) for i in range(0, n)}                          #Формируем словарь из F и считаем его сумму\n",
    "    result = sum(res.values())             \n",
    "    return result"
   ]
  },
  {
   "cell_type": "code",
   "execution_count": null,
   "metadata": {},
   "outputs": [],
   "source": [
    "n = 35\n",
    "r = sum_fibn(n, 1)\n",
    "print(f\"Сумма первых {n} чисел в ряду Фибонначи равна {r}\")"
   ]
  },
  {
   "cell_type": "markdown",
   "metadata": {},
   "source": [
    "Я сделал еще второй вариант.  Подумал,что он будет быстрее.  Оказалось - не сильно..."
   ]
  },
  {
   "cell_type": "code",
   "execution_count": null,
   "metadata": {},
   "outputs": [],
   "source": [
    "def fibn2(n, f01):   \n",
    "    \"\"\"\n",
    "    Функция вычисляет число Фибонначи F(n)\n",
    "    f01 - словарь, содержащий первые два значения 1, 1 или 0, 1\n",
    "    \"\"\"\n",
    "    if n <= 1:\n",
    "        return f01[n]\n",
    "    f01[n] = fibn2(n-1, f01) + fibn2(n-2, f01)\n",
    "    return f01[n]\n",
    "\n",
    "def sum_fibn2(n, f01):\n",
    "    \"\"\"\n",
    "    Функция вычисляет сумм чисел Фибонначи до F(n)\n",
    "    f01 - словарь, содержащий первые два значения 1, 1 или 0, 1\n",
    "    \"\"\" \n",
    "    res = {i : fibn2(i, f01) for i in range(n)}\n",
    "    result = sum(res.values())  #Составляем из первых чисел F словарь и считаем его сумму\n",
    "    return result\n",
    "\n"
   ]
  },
  {
   "cell_type": "code",
   "execution_count": null,
   "metadata": {},
   "outputs": [],
   "source": [
    "fb = {0:1,1:1}               #Устанавливаем первые два числа F.  1,1 или 0,1\n",
    "n = 35\n",
    "r = sum_fibn2(n, fb)\n",
    "print(f\"Сумма первых {n} чисел в ряду Фибонначи равна {r}\")"
   ]
  },
  {
   "cell_type": "markdown",
   "metadata": {},
   "source": [
    "## Задание 3"
   ]
  },
  {
   "cell_type": "markdown",
   "metadata": {},
   "source": [
    "Напишите программу (она может состоять из нескольких функций), которая будет запрашивать у пользователя количество гостей и список блюд, которые будут подаваться каждому гостю. В результате программа должна выдавать список покупок, состоящий из ингредиентов, которые нужно купить в магазине (если ингредиенты повторяются, то их нужно записать одной строкой, а не отдельно).\n",
    "\n",
    "Пример:\n",
    "\n",
    "вызов\\_главной\\_функций()\n",
    "\n",
    "Введите количество гостей: 3  \n",
    "Введите блюда через пробел: пицца пицца лимонад\n",
    "\n",
    "Список покупок:  \n",
    "сыр 120 гр  \n",
    "колбаса 180 гр  \n",
    "бекон 180 гр  \n",
    "оливки 60 гр  \n",
    "томаты 120 гр  \n",
    "тесто 600 гр  \n",
    "лимон 3 шт  \n",
    "вода 600 мл  \n",
    "сахар 30 гр  \n",
    "лайм 60 гр  "
   ]
  },
  {
   "cell_type": "code",
   "execution_count": null,
   "metadata": {},
   "outputs": [],
   "source": [
    "cook_book = {\n",
    "  'салат': [\n",
    "     {'ingridient_name': 'сыр', 'quantity': 50, 'measure': 'гр'},\n",
    "     {'ingridient_name': 'томаты', 'quantity': 20, 'measure': 'гр'},\n",
    "     {'ingridient_name': 'огурцы', 'quantity': 20, 'measure': 'гр'},\n",
    "     {'ingridient_name': 'маслины', 'quantity': 10, 'measure': 'гр'},\n",
    "     {'ingridient_name': 'оливковое масло', 'quantity': 20, 'measure': 'мл'},\n",
    "     {'ingridient_name': 'салат', 'quantity': 10, 'measure': 'гр'},\n",
    "     {'ingridient_name': 'перец', 'quantity': 20, 'measure': 'гр'}\n",
    "    ],\n",
    "  'пицца': [\n",
    "     {'ingridient_name': 'сыр', 'quantity': 20, 'measure': 'гр'},\n",
    "     {'ingridient_name': 'колбаса', 'quantity': 30, 'measure': 'гр'},\n",
    "     {'ingridient_name': 'бекон', 'quantity': 30, 'measure': 'гр'},\n",
    "     {'ingridient_name': 'оливки', 'quantity': 10, 'measure': 'гр'},\n",
    "     {'ingridient_name': 'томаты', 'quantity': 20, 'measure': 'гр'},\n",
    "     {'ingridient_name': 'тесто', 'quantity': 100, 'measure': 'гр'},   \n",
    "    ],\n",
    "  'лимонад': [\n",
    "     {'ingridient_name': 'лимон', 'quantity': 1, 'measure': 'шт'},\n",
    "     {'ingridient_name': 'вода', 'quantity': 200, 'measure': 'мл'},\n",
    "     {'ingridient_name': 'сахар', 'quantity': 10, 'measure': 'гр'},\n",
    "     {'ingridient_name': 'лайм', 'quantity': 20, 'measure': 'гр'},    \n",
    "    ]\n",
    "}"
   ]
  },
  {
   "cell_type": "code",
   "execution_count": null,
   "metadata": {},
   "outputs": [],
   "source": [
    "def get_wish_list():\n",
    "    \"\"\"\n",
    "    Функция формирует пожелания гостей в формате списка блюд\n",
    "    \"\"\"\n",
    "    wish = []\n",
    "    guests_num = int(input(\"Введите количество гостей  \"))\n",
    "    i = 0\n",
    "\n",
    "    #Основной цикл ввода меню для гостей.  Проверяем ввод, формируем список пожеланий.\n",
    "    while i < guests_num:   \n",
    "        tmp = input(f\"Что будет есть гость номер {i+1}? У нас есть салат, пицца и лимонад -->\")\n",
    "        tmp_list = list(tmp.replace(\",\",\"\").split()) \n",
    "        try:\n",
    "            for k in tmp_list: cook_book[k]\n",
    "        except KeyError:\n",
    "            print(\"Ваш гость желает невозможного.  У нас есть только салат, пицца и лимонад.\")\n",
    "            continue\n",
    "        print(f\"Отлично!  Так и запишем - \", tmp_list)\n",
    "        wish.extend(tmp_list)\n",
    "        i += 1\n",
    "    return wish\n",
    "\n",
    "        "
   ]
  },
  {
   "cell_type": "code",
   "execution_count": null,
   "metadata": {},
   "outputs": [],
   "source": [
    "w = get_wish_list()"
   ]
  },
  {
   "cell_type": "code",
   "execution_count": null,
   "metadata": {},
   "outputs": [],
   "source": [
    "def purchase_list(wishes):\n",
    "    #Формируем такой список c вложенными словарями продуктов, входящих в реальный заказ\n",
    "    buy_book = [cook_book[i][j] for i in wishes for j in range(len(cook_book[i]))]\n",
    "    ingridients = list(set([i[\"ingridient_name\"] for i in buy_book])) #Список уникальных продуктов\n",
    "    \n",
    "    print(\"Вам необходимо купить:\")\n",
    "    for k in range(len(ingridients)):\n",
    "        sum_items = sum([i['quantity'] for i in buy_book if i[\"ingridient_name\"] == ingridients[k]])\n",
    "        item_mgr = set([i['measure'] for i in buy_book if i[\"ingridient_name\"] == ingridients[k]])\n",
    "        print(ingridients[k], sum_items, item_mgr)\n",
    "    return"
   ]
  },
  {
   "cell_type": "code",
   "execution_count": null,
   "metadata": {},
   "outputs": [],
   "source": [
    "purchase_list(w)"
   ]
  },
  {
   "cell_type": "code",
   "execution_count": null,
   "metadata": {},
   "outputs": [],
   "source": []
  },
  {
   "cell_type": "markdown",
   "metadata": {},
   "source": [
    "## Задание 4"
   ]
  },
  {
   "cell_type": "markdown",
   "metadata": {},
   "source": [
    "Вы работаете секретарем и вам постоянно приходят различные документы. Вы должны быть очень внимательны, чтобы не потерять ни один документ. Каталог документов хранится в следующем виде:"
   ]
  },
  {
   "cell_type": "code",
   "execution_count": null,
   "metadata": {},
   "outputs": [],
   "source": [
    "documents = [\n",
    "    {'type': 'passport', 'number': '2207 876234', 'name': 'Василий Гупкин'},\n",
    "    {'type': 'invoice', 'number': '11-2', 'name': 'Геннадий Покемонов'},\n",
    "    {'type': 'insurance', 'number': '10006', 'name': 'Аристарх Павлов'}\n",
    "]"
   ]
  },
  {
   "cell_type": "markdown",
   "metadata": {},
   "source": [
    "Перечень полок, на которых находятся документы хранится в следующем виде:"
   ]
  },
  {
   "cell_type": "code",
   "execution_count": null,
   "metadata": {},
   "outputs": [],
   "source": [
    "directories = {\n",
    "    '1': ['2207 876234', '11-2', '5455 028765'],\n",
    "    '2': ['10006', '5400 028765', '5455 002299'],\n",
    "    '3': []\n",
    "}"
   ]
  },
  {
   "cell_type": "markdown",
   "metadata": {},
   "source": [
    "Необходимо реализовать пользовательские команды (внимание! это не название функций, которые должны быть выразительными, а команды, которые вводит пользователь, чтобы получить необходимый результат):\n",
    "  \n",
    "- p – people – команда, которая спросит номер документа и выведет имя человека, которому он принадлежит;  \n",
    "- s – shelf – команда, которая спросит номер документа и выведет номер полки, на которой он находится  \n",
    "Правильно обработайте ситуацию, когда пользователь будет вводить несуществующий документ."
   ]
  },
  {
   "cell_type": "markdown",
   "metadata": {},
   "source": [
    "## Задание 5"
   ]
  },
  {
   "cell_type": "markdown",
   "metadata": {},
   "source": [
    "К условию из задания 4 реализуйте следующие команды:\n",
    "  \n",
    "- l – list – команда, которая выведет список всех документов в формате   \n",
    "**passport \"2207 876234\" \"Василий Гупкин\"**  \n",
    "- as – add shelf – команда, которая спросит номер новой полки и добавит ее в перечень"
   ]
  },
  {
   "cell_type": "markdown",
   "metadata": {},
   "source": [
    "## Задание 6"
   ]
  },
  {
   "cell_type": "markdown",
   "metadata": {},
   "source": [
    "К условию из задания 5 реализуйте следующие команды:  \n",
    "  \n",
    "- d – delete – команда, которая спросит номер документа и удалит его из каталога и из перечня полок. Предусмотрите сценарий, когда пользователь вводит несуществующий документ;  \n",
    "- m – move – команда, которая спросит номер документа и целевую полку и переместит его с текущей полки на целевую. Корректно обработайте кейсы, когда пользователь пытается переместить несуществующий документ или переместить документ на несуществующую полку;  \n",
    "- a – add – команда, которая добавит новый документ в каталог и в перечень полок, спросив его номер, тип, имя владельца и номер полки, на котором он будет храниться."
   ]
  },
  {
   "cell_type": "code",
   "execution_count": null,
   "metadata": {},
   "outputs": [],
   "source": [
    "def people():\n",
    "    while True:\n",
    "        number = input(\"Введите номер документа ===> \")\n",
    "        record = [rec for rec in documents if number in rec.values()]\n",
    "        if len(record) == 0:\n",
    "            print(\"Этого номера нет в каталоге.  Попробуйте еще раз\")\n",
    "            continue\n",
    "        else:\n",
    "            print(\"Вот этот сотрудник \", record[0])\n",
    "            break\n",
    "    return\n",
    "    \n",
    "    "
   ]
  },
  {
   "cell_type": "code",
   "execution_count": null,
   "metadata": {},
   "outputs": [],
   "source": [
    "def shelf():\n",
    "    doc_num = input(\"Введите номер документа ===> \")\n",
    "    for key in directories:\n",
    "        if doc_num in directories[key]: \n",
    "            print(\"Полка номер \",key)\n",
    "            return\n",
    "            \n",
    "    print(\"Вы ввели несуществующий номер.  Попробуйте повторить ввод\")    \n",
    "    return\n"
   ]
  },
  {
   "cell_type": "code",
   "execution_count": null,
   "metadata": {},
   "outputs": [],
   "source": [
    "def list_docs():\n",
    "    for i in documents:\n",
    "        print(i['type'], '\"',i['number'],'\"', '\"',i['name'],'\"')\n",
    "    return\n"
   ]
  },
  {
   "cell_type": "code",
   "execution_count": null,
   "metadata": {},
   "outputs": [],
   "source": [
    "def add_shell():\n",
    "    while True:\n",
    "        shell_number = input(\"Введите номер новой полки ==> \")\n",
    "        if not shell_number.isdigit():\n",
    "            print(\"Номер полки должен быть числом\")\n",
    "            break\n",
    "        if shell_number in directories.keys():\n",
    "            print(\"Полка с таким номером уже есть.  Повторите ввод \")\n",
    "            continue\n",
    "        else:\n",
    "            directories[shell_number] = []\n",
    "            print(\"Новая полка добавлена с соответствии с Вашими пожеланиями.  Теперь хранилище выглядит так\", directories)\n",
    "            break\n",
    "    return"
   ]
  },
  {
   "cell_type": "code",
   "execution_count": null,
   "metadata": {},
   "outputs": [],
   "source": [
    "def delete_doc():\n",
    "   \n",
    "    while True:\n",
    "        doc_num = input(\"Введите номер документа ===> \")\n",
    "        doc_in_dir = [key for key in directories if doc_num in directories[key]]\n",
    "        if len(doc_in_dir) == 0:\n",
    "            print(\"Такого документа нет в шкафу. Попробуйте ввести номер еще раз \")\n",
    "            continue\n",
    "        \n",
    "        doc_in_cat = [rec for rec in documents if doc_num in rec.values()]\n",
    "        if len(doc_in_cat) == 0:\n",
    "            print(\"Такого документа нет в каталогe. Попробуйте ввести номер еще раз \")\n",
    "            continue\n",
    "            \n",
    "        print(\"Документ успешно удален из шкафа и каталога\")\n",
    "        directories[doc_in_dir[0]].remove(doc_num)\n",
    "        documents.remove(doc_in_cat[0])\n",
    "        print(\"Теперь шкаф выглядит так\", directories)\n",
    "        print(\"А каталог так\", documents)\n",
    "        break\n",
    "        \n",
    "    return \n"
   ]
  },
  {
   "cell_type": "code",
   "execution_count": null,
   "metadata": {},
   "outputs": [],
   "source": [
    "def move_doc():\n",
    "    \n",
    "    while True:\n",
    "       \n",
    "        doc_num = input(\"Введите номер документа ===> \")\n",
    "        shelf_from = [key for key in directories.keys() if doc_num in directories[key]]\n",
    "        if len(shelf_from) == 0:\n",
    "            print(\"Такого документа нет в шкафу. Попробуйте ввести номер еще раз \")\n",
    "            break\n",
    "            \n",
    "        s_to = input(\"Введите номер полки, на которую нужно перенести документ  ===> \")\n",
    "        shelf_to = [rec for rec in directories.keys() if s_to in rec]\n",
    "        if len(shelf_to) == 0:\n",
    "            print(\"Такой полки нет в шкафу. Попробуйте ввести номер еще раз \")\n",
    "            break\n",
    "            \n",
    "        print(\"Документ успешно перемещен\")\n",
    "        directories[shelf_from[0]].remove(doc_num)\n",
    "        directories[shelf_to[0]].append(doc_num)\n",
    "        print(\"Теперь шкаф выглядит так\", directories)\n",
    "        break  \n",
    "    \n",
    "    return                      \n",
    "    "
   ]
  },
  {
   "cell_type": "code",
   "execution_count": null,
   "metadata": {},
   "outputs": [],
   "source": [
    "def add_doc():\n",
    "    \"\"\"\n",
    "    Эта функция добавит новый документ в каталог и в перечень полок, спросив его номер, \n",
    "    тип, имя владельца и номер полки, на котором он будет храниться.\n",
    "    \"\"\"\n",
    "    doc_type = input(\"Введите тип документа ===> \")\n",
    "    doc_num = input(\"Введите номер документа ===> \")\n",
    "    doc_name = input(\"Введите имя его владельца ===> \")\n",
    "    \n",
    "    while True:\n",
    "        doc_shelf = input(\"Введите номер папки для хранения ===> \")\n",
    "        test_shelf = [num for num in directories.keys() if doc_shelf in num]\n",
    "        if len(test_shelf) == 0:\n",
    "            print(\"Полки с таким номером нет в хранилище.  Повторите ввод.\")\n",
    "            continue\n",
    "        else:\n",
    "            break\n",
    "    \n",
    "    directories[doc_shelf].append(doc_num)\n",
    "    documents.append({'type': doc_type, 'number': doc_num, 'name': doc_name})\n",
    "    \n",
    "    print(\"Вводим. Теперь хранилище выглядит так\", directories)\n",
    "    print(\"А каталог так\", documents)\n",
    "    \n",
    "    return"
   ]
  },
  {
   "cell_type": "code",
   "execution_count": null,
   "metadata": {},
   "outputs": [],
   "source": [
    "def gethelp():\n",
    "    print(\"\"\"Я знаю следующие команды: p - people; \n",
    "                                       s - shelf; \n",
    "                                       l : list_docs, \n",
    "                                       as: add_shell, \n",
    "                                       d : delete_doc,\n",
    "                                       m : move_doc,\n",
    "                                       h : gethelpexit\"\"\")\n",
    "    return\n"
   ]
  },
  {
   "cell_type": "code",
   "execution_count": null,
   "metadata": {},
   "outputs": [],
   "source": [
    "#Словарь, содержащий функции, вызываемые интерпретатором\n",
    "command_dict ={'p' : people, \n",
    "            's' : shelf,\n",
    "            'l' : list_docs,\n",
    "            'as': add_shell,\n",
    "            'd' : delete_doc,\n",
    "            'm' : move_doc,\n",
    "            'a' : add_doc,\n",
    "            'h' : gethelp}\n"
   ]
  },
  {
   "cell_type": "code",
   "execution_count": null,
   "metadata": {},
   "outputs": [],
   "source": [
    "def core_interpreter():\n",
    "    \"\"\"\n",
    "    Функция - ядро интерпретатора.  Ждет команду и вызывает функцию из словаря.\n",
    "    \"\"\"\n",
    "    \n",
    "    while True:\n",
    "        cmd = input(\"Введите команду или exit для завершения  ===>\")\n",
    "        if cmd in command_dict:\n",
    "            command_dict[cmd]()\n",
    "            continue\n",
    "        elif cmd == \"exit\":\n",
    "            break\n",
    "        else:\n",
    "            print(\"Вы ввели несуществующую команду\", gethelp())\n",
    "            continue\n",
    "    return\n",
    "            "
   ]
  },
  {
   "cell_type": "code",
   "execution_count": null,
   "metadata": {},
   "outputs": [],
   "source": [
    "core_interpreter()"
   ]
  },
  {
   "cell_type": "code",
   "execution_count": null,
   "metadata": {},
   "outputs": [],
   "source": []
  }
 ],
 "metadata": {
  "kernelspec": {
   "display_name": "Python 3",
   "language": "python",
   "name": "python3"
  },
  "language_info": {
   "codemirror_mode": {
    "name": "ipython",
    "version": 3
   },
   "file_extension": ".py",
   "mimetype": "text/x-python",
   "name": "python",
   "nbconvert_exporter": "python",
   "pygments_lexer": "ipython3",
   "version": "3.7.1"
  }
 },
 "nbformat": 4,
 "nbformat_minor": 2
}
