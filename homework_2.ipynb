{
 "cells": [
  {
   "cell_type": "markdown",
   "metadata": {},
   "source": [
    "## Домашняя работа №2.  Списки."
   ]
  },
  {
   "cell_type": "markdown",
   "metadata": {},
   "source": [
    "### Задача №1"
   ]
  },
  {
   "cell_type": "markdown",
   "metadata": {},
   "source": [
    "Дан список с визитами по городам и странам. Напишите код, который возвращает отфильтрованный список geo_logs, содержащий только визиты из России. Считайте, что список geo_logs легко помещается в оперативной памяти."
   ]
  },
  {
   "cell_type": "code",
   "execution_count": null,
   "metadata": {},
   "outputs": [],
   "source": [
    "geo_logs = [\n",
    "['visit1', ['Москва', 'Россия']],\n",
    "['visit2', ['Дели', 'Индия']],\n",
    "['visit3', ['Владимир', 'Россия']],\n",
    "['visit4', ['Лиссабон', 'Португалия']],\n",
    "['visit5', ['Париж', 'Франция']],\n",
    "['visit6', ['Лиссабон', 'Португалия']],\n",
    "['visit7', ['Тула', 'Россия']],\n",
    "['visit8', ['Тула', 'Россия']],\n",
    "['visit9', ['Курск', 'Россия']],\n",
    "['visit10', ['Архангельск', 'Россия']]\n",
    "]"
   ]
  },
  {
   "cell_type": "code",
   "execution_count": null,
   "metadata": {},
   "outputs": [],
   "source": [
    "geo_logs_russia = [[x,y] for [x,y] in geo_logs if y[1] == 'Россия']\n",
    "geo_logs_russia"
   ]
  },
  {
   "cell_type": "code",
   "execution_count": null,
   "metadata": {},
   "outputs": [],
   "source": []
  },
  {
   "cell_type": "markdown",
   "metadata": {},
   "source": [
    "### Задача №2"
   ]
  },
  {
   "cell_type": "markdown",
   "metadata": {},
   "source": [
    "Выведите на экран все уникальные гео-ID из списка координат ids. Т. е. список вида [213, 15, 54, 119, 98, 35]"
   ]
  },
  {
   "cell_type": "code",
   "execution_count": null,
   "metadata": {},
   "outputs": [],
   "source": [
    "ids = [['user1', [213, 213, 213, 15, 213]], \n",
    "       ['user2', [54, 54, 119, 119, 119]], \n",
    "       ['user3', [213, 98, 98, 35]]]"
   ]
  },
  {
   "cell_type": "code",
   "execution_count": null,
   "metadata": {},
   "outputs": [],
   "source": [
    "#Создаем множестово. Оно может содержать только уникальные значения - пусть само и разбирается\n",
    "#с уникальностью.\n",
    "un = set()            \n",
    "for [x,y] in ids:      #Бежим по списку\n",
    "    un = un | set(y)   #Запихиваем вложенный список в множество.  Не уверен, что это быстро, но мы вроде не спешим...\n",
    "un_ID = list(un)       #Вливаем обратно в список значения из множества. Там они уже уникальны.\n",
    "print(un_ID)"
   ]
  },
  {
   "cell_type": "code",
   "execution_count": null,
   "metadata": {},
   "outputs": [],
   "source": []
  },
  {
   "cell_type": "markdown",
   "metadata": {},
   "source": [
    "### Задача №3"
   ]
  },
  {
   "cell_type": "markdown",
   "metadata": {},
   "source": [
    "Список поисковых запросов. Получить распределение количества слов в них. \n",
    "Т. е. поисковых запросов из одного слова 5%, из двух - 7%, из трех - 3% итд."
   ]
  },
  {
   "cell_type": "code",
   "execution_count": null,
   "metadata": {},
   "outputs": [],
   "source": [
    "queries = [\n",
    "'смотреть сериалы онлайн',\n",
    "'новости спорта',\n",
    "'афиша кино',\n",
    "'курс доллара',\n",
    "'сериалы этим летом',\n",
    "'курс по питону',\n",
    "'сериалы про спорт',\n",
    "\"кошка\",\n",
    "\"\"\n",
    "]"
   ]
  },
  {
   "cell_type": "code",
   "execution_count": null,
   "metadata": {},
   "outputs": [],
   "source": [
    "words_cnt = []                         #Это список для целых значений кол-ва слов в каждом запросе\n",
    "num_queries = len(queries)             #Общее число запросов\n",
    "for str in queries:\n",
    "    num_words = len(str.split())       #Формируем список слов, длинна списка = кол-ву слов в запросе\n",
    "    words_cnt.append(num_words)        #Создаем список из количеств слов в каждом запросе\n",
    "dict = {i : words_cnt.count(i)/num_queries*100 for i in words_cnt}  #Считаем доли и в словарь (проще печатать будет)\n",
    "for i,k in dict.items(): print(f'доля запросов с {i} словами составляет {k:.2f} %')"
   ]
  },
  {
   "cell_type": "code",
   "execution_count": null,
   "metadata": {},
   "outputs": [],
   "source": []
  },
  {
   "cell_type": "markdown",
   "metadata": {},
   "source": [
    "### Задача №4"
   ]
  },
  {
   "cell_type": "markdown",
   "metadata": {},
   "source": [
    "Дан поток логов по количеству просмотренных страниц для каждого пользователя. \n",
    "Список отсортирован по ID пользователя. Вам необходимо написать алгоритм,\n",
    " который считает среднее значение просмотров на пользователя. \n",
    " Т. е. надо посчитать отношение суммы всех просмотров к количеству уникальных пользователей.\n",
    " Учтите, что весь список stream не помещается в оперативную память, \n",
    " т. е. его нужно обрабатывать поэлементно в цикле.\n"
   ]
  },
  {
   "cell_type": "code",
   "execution_count": null,
   "metadata": {},
   "outputs": [],
   "source": [
    "'''\n",
    "тут немного непонятно.  Если список выше не влезает в оперативную память, как написано в условии задачи,\n",
    "его надо бы по хорошему в файл кинуть и его уже в цикле итерировать.  А то получается, что мы его один \n",
    "фиг в память засунули полностью, когда инициализовали ссылку на него. Ну ладно... это техника.  \n",
    "'''"
   ]
  },
  {
   "cell_type": "code",
   "execution_count": null,
   "metadata": {},
   "outputs": [],
   "source": [
    "stream = [\n",
    "'2018-01-01,user1,3',\n",
    "'2018-01-07,user1,4',\n",
    "'2018-03-29,user1,1',\n",
    "'2018-04-04,user1,13',\n",
    "'2018-01-05,user2,7',\n",
    "'2018-06-14,user3,4',\n",
    "'2018-07-02,user3,10',\n",
    "'2018-03-21,user4,19',\n",
    "'2018-03-22,user4,4',\n",
    "'2018-04-22,user4,8',\n",
    "'2018-05-03,user4,9',\n",
    "'2018-05-11,user4,11',\n",
    "]"
   ]
  },
  {
   "cell_type": "code",
   "execution_count": null,
   "metadata": {},
   "outputs": [],
   "source": [
    "users = set()                           #Множество для подсчета числа уникальных пользователей\n",
    "counter = 0\n",
    "for user in stream:\n",
    "    num = int(user.split(\",\")[1][4:])   #Делаем из строки список и берем номер пользователя\n",
    "    users.add(num)                      #Загоняем его в множество.  Пусть оно само разбирается с уникальностью\n",
    "    counter += int(user.split(\",\")[2])  #Считаем число просмотров\n",
    "num_users = len(users)                  #Сколько элементов множеста = столько уникальных user'ов\n",
    "print(f\"Ответ: среднее значение просмотров на пользователя составляет {counter/num_users}\")"
   ]
  },
  {
   "cell_type": "code",
   "execution_count": null,
   "metadata": {},
   "outputs": [],
   "source": []
  },
  {
   "cell_type": "code",
   "execution_count": null,
   "metadata": {},
   "outputs": [],
   "source": []
  }
 ],
 "metadata": {
  "kernelspec": {
   "display_name": "Python 3",
   "language": "python",
   "name": "python3"
  },
  "language_info": {
   "codemirror_mode": {
    "name": "ipython",
    "version": 3
   },
   "file_extension": ".py",
   "mimetype": "text/x-python",
   "name": "python",
   "nbconvert_exporter": "python",
   "pygments_lexer": "ipython3",
   "version": "3.7.1"
  }
 },
 "nbformat": 4,
 "nbformat_minor": 2
}
