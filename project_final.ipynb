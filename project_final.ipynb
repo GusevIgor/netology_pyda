{
 "cells": [
  {
   "cell_type": "markdown",
   "metadata": {},
   "source": [
    "## Проектная работа по модулю “Математика и статистика в Python”\n",
    "\n",
    "1. Загрузить файл hr.csv\n",
    "2. Рассчитать основные статистики для переменных (среднее,медиана,мода,мин/макс,сред.отклонение).\n",
    "3. Рассчитать и визуализировать корреляционную матрицу для переменных.\n",
    "4. Визуализировать несколько взаимосвязей между переменными.\n",
    "5. С использованием t-test статистики проверить взаимосвязи между несколькими переменными.\n",
    "6. Рассчитать сколько работников работает в каждом департаменте.\n",
    "7. Показать распределение сотрудников по зарплатам.\n",
    "8. Показать распределение сотрудников по зарплатам совместно с департаментами.\n",
    "9. Сколько сотрудников покинули компанию.\n",
    "10. Проверить несколько гипотез для данных, чтобы понять почему сотрудники покидают компанию.\n",
    "11. Загрузить результат (в формате .ipynb ноутбука) в репозиторий. Разместить ссылку на репозиторий в Личном кабинете"
   ]
  },
  {
   "cell_type": "code",
   "execution_count": 11,
   "metadata": {},
   "outputs": [],
   "source": [
    "import numpy as np\n",
    "from scipy.stats import t\n",
    "from scipy.stats import norm\n",
    "import matplotlib.pyplot as plt\n",
    "from scipy import stats\n",
    "import pandas as pd\n",
    "import io\n",
    "import requests\n",
    "import seaborn as sns\n",
    "import statistics\n",
    "%matplotlib inline"
   ]
  },
  {
   "cell_type": "markdown",
   "metadata": {},
   "source": [
    "__1. Загрузить файл hr.csv__"
   ]
  },
  {
   "cell_type": "code",
   "execution_count": 535,
   "metadata": {},
   "outputs": [
    {
     "name": "stdout",
     "output_type": "stream",
     "text": [
      "<class 'pandas.core.frame.DataFrame'>\n",
      "RangeIndex: 14999 entries, 0 to 14998\n",
      "Data columns (total 10 columns):\n",
      "satisfaction_level       14999 non-null float64\n",
      "last_evaluation          14999 non-null float64\n",
      "number_project           14999 non-null int64\n",
      "average_montly_hours     14999 non-null int64\n",
      "time_spend_company       14999 non-null int64\n",
      "Work_accident            14999 non-null int64\n",
      "left                     14999 non-null int64\n",
      "promotion_last_5years    14999 non-null int64\n",
      "sales                    14999 non-null object\n",
      "salary                   14999 non-null object\n",
      "dtypes: float64(2), int64(6), object(2)\n",
      "memory usage: 1.1+ MB\n"
     ]
    }
   ],
   "source": [
    "data=pd.read_csv('hr.csv')\n",
    "data.info()"
   ]
  },
  {
   "cell_type": "markdown",
   "metadata": {},
   "source": [
    "*Супер! Dataset чистый, NaN - ов нет.  соответствует стандартному описанию hr.csv.  Только столбец Department здесь называется Sales. Но это нам не мешает.*"
   ]
  },
  {
   "cell_type": "code",
   "execution_count": 536,
   "metadata": {},
   "outputs": [],
   "source": [
    "#Чтобы сделать более наглядной работу с Dataset, переименуем столбцы на более короткие\n",
    "names = ['SL', 'LEV', 'NP', 'AMH', 'TSC', 'WA', 'LEFT', 'PL5Y', 'DEP', 'SAL']\n",
    "data.columns = names"
   ]
  },
  {
   "cell_type": "code",
   "execution_count": 537,
   "metadata": {},
   "outputs": [
    {
     "data": {
      "text/html": [
       "<div>\n",
       "<style scoped>\n",
       "    .dataframe tbody tr th:only-of-type {\n",
       "        vertical-align: middle;\n",
       "    }\n",
       "\n",
       "    .dataframe tbody tr th {\n",
       "        vertical-align: top;\n",
       "    }\n",
       "\n",
       "    .dataframe thead th {\n",
       "        text-align: right;\n",
       "    }\n",
       "</style>\n",
       "<table border=\"1\" class=\"dataframe\">\n",
       "  <thead>\n",
       "    <tr style=\"text-align: right;\">\n",
       "      <th></th>\n",
       "      <th>SL</th>\n",
       "      <th>LEV</th>\n",
       "      <th>NP</th>\n",
       "      <th>AMH</th>\n",
       "      <th>TSC</th>\n",
       "      <th>WA</th>\n",
       "      <th>LEFT</th>\n",
       "      <th>PL5Y</th>\n",
       "      <th>DEP</th>\n",
       "      <th>SAL</th>\n",
       "    </tr>\n",
       "  </thead>\n",
       "  <tbody>\n",
       "    <tr>\n",
       "      <td>0</td>\n",
       "      <td>0.38</td>\n",
       "      <td>0.53</td>\n",
       "      <td>2</td>\n",
       "      <td>157</td>\n",
       "      <td>3</td>\n",
       "      <td>0</td>\n",
       "      <td>1</td>\n",
       "      <td>0</td>\n",
       "      <td>sales</td>\n",
       "      <td>low</td>\n",
       "    </tr>\n",
       "    <tr>\n",
       "      <td>1</td>\n",
       "      <td>0.80</td>\n",
       "      <td>0.86</td>\n",
       "      <td>5</td>\n",
       "      <td>262</td>\n",
       "      <td>6</td>\n",
       "      <td>0</td>\n",
       "      <td>1</td>\n",
       "      <td>0</td>\n",
       "      <td>sales</td>\n",
       "      <td>medium</td>\n",
       "    </tr>\n",
       "    <tr>\n",
       "      <td>2</td>\n",
       "      <td>0.11</td>\n",
       "      <td>0.88</td>\n",
       "      <td>7</td>\n",
       "      <td>272</td>\n",
       "      <td>4</td>\n",
       "      <td>0</td>\n",
       "      <td>1</td>\n",
       "      <td>0</td>\n",
       "      <td>sales</td>\n",
       "      <td>medium</td>\n",
       "    </tr>\n",
       "    <tr>\n",
       "      <td>3</td>\n",
       "      <td>0.72</td>\n",
       "      <td>0.87</td>\n",
       "      <td>5</td>\n",
       "      <td>223</td>\n",
       "      <td>5</td>\n",
       "      <td>0</td>\n",
       "      <td>1</td>\n",
       "      <td>0</td>\n",
       "      <td>sales</td>\n",
       "      <td>low</td>\n",
       "    </tr>\n",
       "    <tr>\n",
       "      <td>4</td>\n",
       "      <td>0.37</td>\n",
       "      <td>0.52</td>\n",
       "      <td>2</td>\n",
       "      <td>159</td>\n",
       "      <td>3</td>\n",
       "      <td>0</td>\n",
       "      <td>1</td>\n",
       "      <td>0</td>\n",
       "      <td>sales</td>\n",
       "      <td>low</td>\n",
       "    </tr>\n",
       "  </tbody>\n",
       "</table>\n",
       "</div>"
      ],
      "text/plain": [
       "     SL   LEV  NP  AMH  TSC  WA  LEFT  PL5Y    DEP     SAL\n",
       "0  0.38  0.53   2  157    3   0     1     0  sales     low\n",
       "1  0.80  0.86   5  262    6   0     1     0  sales  medium\n",
       "2  0.11  0.88   7  272    4   0     1     0  sales  medium\n",
       "3  0.72  0.87   5  223    5   0     1     0  sales     low\n",
       "4  0.37  0.52   2  159    3   0     1     0  sales     low"
      ]
     },
     "execution_count": 537,
     "metadata": {},
     "output_type": "execute_result"
    }
   ],
   "source": [
    "data.head()"
   ]
  },
  {
   "cell_type": "markdown",
   "metadata": {},
   "source": [
    "**2. Рассчитать основные статистики для переменных (среднее,медиана,мода,мин/макс,сред.отклонение).**"
   ]
  },
  {
   "cell_type": "code",
   "execution_count": 538,
   "metadata": {},
   "outputs": [
    {
     "data": {
      "text/html": [
       "<div>\n",
       "<style scoped>\n",
       "    .dataframe tbody tr th:only-of-type {\n",
       "        vertical-align: middle;\n",
       "    }\n",
       "\n",
       "    .dataframe tbody tr th {\n",
       "        vertical-align: top;\n",
       "    }\n",
       "\n",
       "    .dataframe thead th {\n",
       "        text-align: right;\n",
       "    }\n",
       "</style>\n",
       "<table border=\"1\" class=\"dataframe\">\n",
       "  <thead>\n",
       "    <tr style=\"text-align: right;\">\n",
       "      <th></th>\n",
       "      <th>SL</th>\n",
       "      <th>LEV</th>\n",
       "      <th>NP</th>\n",
       "      <th>AMH</th>\n",
       "      <th>TSC</th>\n",
       "      <th>WA</th>\n",
       "      <th>LEFT</th>\n",
       "      <th>PL5Y</th>\n",
       "    </tr>\n",
       "  </thead>\n",
       "  <tbody>\n",
       "    <tr>\n",
       "      <td>count</td>\n",
       "      <td>14999.000000</td>\n",
       "      <td>14999.000000</td>\n",
       "      <td>14999.000000</td>\n",
       "      <td>14999.000000</td>\n",
       "      <td>14999.000000</td>\n",
       "      <td>14999.000000</td>\n",
       "      <td>14999.000000</td>\n",
       "      <td>14999.000000</td>\n",
       "    </tr>\n",
       "    <tr>\n",
       "      <td>mean</td>\n",
       "      <td>0.612834</td>\n",
       "      <td>0.716102</td>\n",
       "      <td>3.803054</td>\n",
       "      <td>201.050337</td>\n",
       "      <td>3.498233</td>\n",
       "      <td>0.144610</td>\n",
       "      <td>0.238083</td>\n",
       "      <td>0.021268</td>\n",
       "    </tr>\n",
       "    <tr>\n",
       "      <td>std</td>\n",
       "      <td>0.248631</td>\n",
       "      <td>0.171169</td>\n",
       "      <td>1.232592</td>\n",
       "      <td>49.943099</td>\n",
       "      <td>1.460136</td>\n",
       "      <td>0.351719</td>\n",
       "      <td>0.425924</td>\n",
       "      <td>0.144281</td>\n",
       "    </tr>\n",
       "    <tr>\n",
       "      <td>min</td>\n",
       "      <td>0.090000</td>\n",
       "      <td>0.360000</td>\n",
       "      <td>2.000000</td>\n",
       "      <td>96.000000</td>\n",
       "      <td>2.000000</td>\n",
       "      <td>0.000000</td>\n",
       "      <td>0.000000</td>\n",
       "      <td>0.000000</td>\n",
       "    </tr>\n",
       "    <tr>\n",
       "      <td>25%</td>\n",
       "      <td>0.440000</td>\n",
       "      <td>0.560000</td>\n",
       "      <td>3.000000</td>\n",
       "      <td>156.000000</td>\n",
       "      <td>3.000000</td>\n",
       "      <td>0.000000</td>\n",
       "      <td>0.000000</td>\n",
       "      <td>0.000000</td>\n",
       "    </tr>\n",
       "    <tr>\n",
       "      <td>50%</td>\n",
       "      <td>0.640000</td>\n",
       "      <td>0.720000</td>\n",
       "      <td>4.000000</td>\n",
       "      <td>200.000000</td>\n",
       "      <td>3.000000</td>\n",
       "      <td>0.000000</td>\n",
       "      <td>0.000000</td>\n",
       "      <td>0.000000</td>\n",
       "    </tr>\n",
       "    <tr>\n",
       "      <td>75%</td>\n",
       "      <td>0.820000</td>\n",
       "      <td>0.870000</td>\n",
       "      <td>5.000000</td>\n",
       "      <td>245.000000</td>\n",
       "      <td>4.000000</td>\n",
       "      <td>0.000000</td>\n",
       "      <td>0.000000</td>\n",
       "      <td>0.000000</td>\n",
       "    </tr>\n",
       "    <tr>\n",
       "      <td>max</td>\n",
       "      <td>1.000000</td>\n",
       "      <td>1.000000</td>\n",
       "      <td>7.000000</td>\n",
       "      <td>310.000000</td>\n",
       "      <td>10.000000</td>\n",
       "      <td>1.000000</td>\n",
       "      <td>1.000000</td>\n",
       "      <td>1.000000</td>\n",
       "    </tr>\n",
       "  </tbody>\n",
       "</table>\n",
       "</div>"
      ],
      "text/plain": [
       "                 SL           LEV            NP           AMH           TSC  \\\n",
       "count  14999.000000  14999.000000  14999.000000  14999.000000  14999.000000   \n",
       "mean       0.612834      0.716102      3.803054    201.050337      3.498233   \n",
       "std        0.248631      0.171169      1.232592     49.943099      1.460136   \n",
       "min        0.090000      0.360000      2.000000     96.000000      2.000000   \n",
       "25%        0.440000      0.560000      3.000000    156.000000      3.000000   \n",
       "50%        0.640000      0.720000      4.000000    200.000000      3.000000   \n",
       "75%        0.820000      0.870000      5.000000    245.000000      4.000000   \n",
       "max        1.000000      1.000000      7.000000    310.000000     10.000000   \n",
       "\n",
       "                 WA          LEFT          PL5Y  \n",
       "count  14999.000000  14999.000000  14999.000000  \n",
       "mean       0.144610      0.238083      0.021268  \n",
       "std        0.351719      0.425924      0.144281  \n",
       "min        0.000000      0.000000      0.000000  \n",
       "25%        0.000000      0.000000      0.000000  \n",
       "50%        0.000000      0.000000      0.000000  \n",
       "75%        0.000000      0.000000      0.000000  \n",
       "max        1.000000      1.000000      1.000000  "
      ]
     },
     "execution_count": 538,
     "metadata": {},
     "output_type": "execute_result"
    }
   ],
   "source": [
    "#Самый простой способ это сделать - describe\n",
    "data.describe()"
   ]
  },
  {
   "cell_type": "markdown",
   "metadata": {},
   "source": [
    "_Вот только моды в этой таблице нет.  Рассчитаем отдельно._"
   ]
  },
  {
   "cell_type": "code",
   "execution_count": 539,
   "metadata": {},
   "outputs": [
    {
     "name": "stdout",
     "output_type": "stream",
     "text": [
      "Мода столбца  SL =  0.1\n",
      "Мода столбца  LEV =  0.55\n",
      "Мода столбца  NP =  4\n",
      "При расчете моды столбца  AMH возникла ошибка.  Нет уникальной моды\n",
      "Мода столбца  TSC =  3\n",
      "Мода столбца  WA =  0\n",
      "Мода столбца  LEFT =  0\n",
      "Мода столбца  PL5Y =  0\n",
      "Мода столбца  DEP =  sales\n",
      "Мода столбца  SAL =  low\n"
     ]
    }
   ],
   "source": [
    "for i in range(data.shape[1]):\n",
    "    try:    \n",
    "        print(\"Мода столбца \", data.columns[i], \"= \", statistics.mode(data.iloc[:, i]))\n",
    "    except statistics.StatisticsError:\n",
    "        print(\"При расчете моды столбца \", data.columns[i], \"возникла ошибка.  Нет уникальной моды\")   "
   ]
  },
  {
   "cell_type": "markdown",
   "metadata": {},
   "source": [
    "_Видно, что при расчете моды 4-го столбца (i=3) возникла ошибка, связанная с отсутствием уникальной моды.  Т.е. два или больше значений списка встречаются одинаково часто._  "
   ]
  },
  {
   "cell_type": "markdown",
   "metadata": {},
   "source": [
    "**3. Рассчитать и визуализировать корреляционную матрицу для переменных.**"
   ]
  },
  {
   "cell_type": "markdown",
   "metadata": {},
   "source": [
    "_Перед расчетом корреляций я бы изменил формат данных в столбеце Sales.  Скорей всего, уровень заработной платы сильно коррелирует с рядом остальных величин, но эта корреляция не будет рассчитана для текстового формата.  Поэтому сделаем его int.  Ведем еще один столбец SALI_"
   ]
  },
  {
   "cell_type": "code",
   "execution_count": 540,
   "metadata": {},
   "outputs": [
    {
     "data": {
      "text/plain": [
       "array(['low', 'medium', 'high'], dtype=object)"
      ]
     },
     "execution_count": 540,
     "metadata": {},
     "output_type": "execute_result"
    }
   ],
   "source": [
    "data['SAL'].unique()"
   ]
  },
  {
   "cell_type": "code",
   "execution_count": 541,
   "metadata": {},
   "outputs": [
    {
     "data": {
      "text/plain": [
       "0        0\n",
       "1        1\n",
       "2        1\n",
       "3        0\n",
       "4        0\n",
       "        ..\n",
       "14994    0\n",
       "14995    0\n",
       "14996    0\n",
       "14997    0\n",
       "14998    0\n",
       "Name: SALI, Length: 14999, dtype: int64"
      ]
     },
     "execution_count": 541,
     "metadata": {},
     "output_type": "execute_result"
    }
   ],
   "source": [
    "ren = {'low': 0, 'medium': 1, 'high': 2}\n",
    "data['SALI'] = data['SAL'].map(ren)\n",
    "data['SALI']"
   ]
  },
  {
   "cell_type": "code",
   "execution_count": 542,
   "metadata": {},
   "outputs": [
    {
     "data": {
      "text/html": [
       "<style  type=\"text/css\" >\n",
       "    #T_970da1cc_3241_11ea_9397_24fd52cd3f76row0_col0 {\n",
       "            background-color:  #b40426;\n",
       "            color:  #f1f1f1;\n",
       "        }    #T_970da1cc_3241_11ea_9397_24fd52cd3f76row0_col1 {\n",
       "            background-color:  #5f7fe8;\n",
       "            color:  #000000;\n",
       "        }    #T_970da1cc_3241_11ea_9397_24fd52cd3f76row0_col2 {\n",
       "            background-color:  #3b4cc0;\n",
       "            color:  #f1f1f1;\n",
       "        }    #T_970da1cc_3241_11ea_9397_24fd52cd3f76row0_col3 {\n",
       "            background-color:  #3b4cc0;\n",
       "            color:  #f1f1f1;\n",
       "        }    #T_970da1cc_3241_11ea_9397_24fd52cd3f76row0_col4 {\n",
       "            background-color:  #3b4cc0;\n",
       "            color:  #f1f1f1;\n",
       "        }    #T_970da1cc_3241_11ea_9397_24fd52cd3f76row0_col5 {\n",
       "            background-color:  #7597f6;\n",
       "            color:  #000000;\n",
       "        }    #T_970da1cc_3241_11ea_9397_24fd52cd3f76row0_col6 {\n",
       "            background-color:  #3b4cc0;\n",
       "            color:  #f1f1f1;\n",
       "        }    #T_970da1cc_3241_11ea_9397_24fd52cd3f76row0_col7 {\n",
       "            background-color:  #5470de;\n",
       "            color:  #000000;\n",
       "        }    #T_970da1cc_3241_11ea_9397_24fd52cd3f76row0_col8 {\n",
       "            background-color:  #7597f6;\n",
       "            color:  #000000;\n",
       "        }    #T_970da1cc_3241_11ea_9397_24fd52cd3f76row1_col0 {\n",
       "            background-color:  #b3cdfb;\n",
       "            color:  #000000;\n",
       "        }    #T_970da1cc_3241_11ea_9397_24fd52cd3f76row1_col1 {\n",
       "            background-color:  #b40426;\n",
       "            color:  #f1f1f1;\n",
       "        }    #T_970da1cc_3241_11ea_9397_24fd52cd3f76row1_col2 {\n",
       "            background-color:  #cad8ef;\n",
       "            color:  #000000;\n",
       "        }    #T_970da1cc_3241_11ea_9397_24fd52cd3f76row1_col3 {\n",
       "            background-color:  #b1cbfc;\n",
       "            color:  #000000;\n",
       "        }    #T_970da1cc_3241_11ea_9397_24fd52cd3f76row1_col4 {\n",
       "            background-color:  #7ea1fa;\n",
       "            color:  #000000;\n",
       "        }    #T_970da1cc_3241_11ea_9397_24fd52cd3f76row1_col5 {\n",
       "            background-color:  #6180e9;\n",
       "            color:  #000000;\n",
       "        }    #T_970da1cc_3241_11ea_9397_24fd52cd3f76row1_col6 {\n",
       "            background-color:  #9abbff;\n",
       "            color:  #000000;\n",
       "        }    #T_970da1cc_3241_11ea_9397_24fd52cd3f76row1_col7 {\n",
       "            background-color:  #4961d2;\n",
       "            color:  #f1f1f1;\n",
       "        }    #T_970da1cc_3241_11ea_9397_24fd52cd3f76row1_col8 {\n",
       "            background-color:  #6384eb;\n",
       "            color:  #000000;\n",
       "        }    #T_970da1cc_3241_11ea_9397_24fd52cd3f76row2_col0 {\n",
       "            background-color:  #7597f6;\n",
       "            color:  #000000;\n",
       "        }    #T_970da1cc_3241_11ea_9397_24fd52cd3f76row2_col1 {\n",
       "            background-color:  #b2ccfb;\n",
       "            color:  #000000;\n",
       "        }    #T_970da1cc_3241_11ea_9397_24fd52cd3f76row2_col2 {\n",
       "            background-color:  #b40426;\n",
       "            color:  #f1f1f1;\n",
       "        }    #T_970da1cc_3241_11ea_9397_24fd52cd3f76row2_col3 {\n",
       "            background-color:  #cad8ef;\n",
       "            color:  #000000;\n",
       "        }    #T_970da1cc_3241_11ea_9397_24fd52cd3f76row2_col4 {\n",
       "            background-color:  #94b6ff;\n",
       "            color:  #000000;\n",
       "        }    #T_970da1cc_3241_11ea_9397_24fd52cd3f76row2_col5 {\n",
       "            background-color:  #6384eb;\n",
       "            color:  #000000;\n",
       "        }    #T_970da1cc_3241_11ea_9397_24fd52cd3f76row2_col6 {\n",
       "            background-color:  #9dbdff;\n",
       "            color:  #000000;\n",
       "        }    #T_970da1cc_3241_11ea_9397_24fd52cd3f76row2_col7 {\n",
       "            background-color:  #4961d2;\n",
       "            color:  #f1f1f1;\n",
       "        }    #T_970da1cc_3241_11ea_9397_24fd52cd3f76row2_col8 {\n",
       "            background-color:  #6687ed;\n",
       "            color:  #000000;\n",
       "        }    #T_970da1cc_3241_11ea_9397_24fd52cd3f76row3_col0 {\n",
       "            background-color:  #93b5fe;\n",
       "            color:  #000000;\n",
       "        }    #T_970da1cc_3241_11ea_9397_24fd52cd3f76row3_col1 {\n",
       "            background-color:  #aec9fc;\n",
       "            color:  #000000;\n",
       "        }    #T_970da1cc_3241_11ea_9397_24fd52cd3f76row3_col2 {\n",
       "            background-color:  #dadce0;\n",
       "            color:  #000000;\n",
       "        }    #T_970da1cc_3241_11ea_9397_24fd52cd3f76row3_col3 {\n",
       "            background-color:  #b40426;\n",
       "            color:  #f1f1f1;\n",
       "        }    #T_970da1cc_3241_11ea_9397_24fd52cd3f76row3_col4 {\n",
       "            background-color:  #7ea1fa;\n",
       "            color:  #000000;\n",
       "        }    #T_970da1cc_3241_11ea_9397_24fd52cd3f76row3_col5 {\n",
       "            background-color:  #6180e9;\n",
       "            color:  #000000;\n",
       "        }    #T_970da1cc_3241_11ea_9397_24fd52cd3f76row3_col6 {\n",
       "            background-color:  #a9c6fd;\n",
       "            color:  #000000;\n",
       "        }    #T_970da1cc_3241_11ea_9397_24fd52cd3f76row3_col7 {\n",
       "            background-color:  #4b64d5;\n",
       "            color:  #f1f1f1;\n",
       "        }    #T_970da1cc_3241_11ea_9397_24fd52cd3f76row3_col8 {\n",
       "            background-color:  #6687ed;\n",
       "            color:  #000000;\n",
       "        }    #T_970da1cc_3241_11ea_9397_24fd52cd3f76row4_col0 {\n",
       "            background-color:  #7ea1fa;\n",
       "            color:  #000000;\n",
       "        }    #T_970da1cc_3241_11ea_9397_24fd52cd3f76row4_col1 {\n",
       "            background-color:  #6687ed;\n",
       "            color:  #000000;\n",
       "        }    #T_970da1cc_3241_11ea_9397_24fd52cd3f76row4_col2 {\n",
       "            background-color:  #9ebeff;\n",
       "            color:  #000000;\n",
       "        }    #T_970da1cc_3241_11ea_9397_24fd52cd3f76row4_col3 {\n",
       "            background-color:  #688aef;\n",
       "            color:  #000000;\n",
       "        }    #T_970da1cc_3241_11ea_9397_24fd52cd3f76row4_col4 {\n",
       "            background-color:  #b40426;\n",
       "            color:  #f1f1f1;\n",
       "        }    #T_970da1cc_3241_11ea_9397_24fd52cd3f76row4_col5 {\n",
       "            background-color:  #6384eb;\n",
       "            color:  #000000;\n",
       "        }    #T_970da1cc_3241_11ea_9397_24fd52cd3f76row4_col6 {\n",
       "            background-color:  #bad0f8;\n",
       "            color:  #000000;\n",
       "        }    #T_970da1cc_3241_11ea_9397_24fd52cd3f76row4_col7 {\n",
       "            background-color:  #6180e9;\n",
       "            color:  #000000;\n",
       "        }    #T_970da1cc_3241_11ea_9397_24fd52cd3f76row4_col8 {\n",
       "            background-color:  #7597f6;\n",
       "            color:  #000000;\n",
       "        }    #T_970da1cc_3241_11ea_9397_24fd52cd3f76row5_col0 {\n",
       "            background-color:  #a6c4fe;\n",
       "            color:  #000000;\n",
       "        }    #T_970da1cc_3241_11ea_9397_24fd52cd3f76row5_col1 {\n",
       "            background-color:  #3b4cc0;\n",
       "            color:  #f1f1f1;\n",
       "        }    #T_970da1cc_3241_11ea_9397_24fd52cd3f76row5_col2 {\n",
       "            background-color:  #6180e9;\n",
       "            color:  #000000;\n",
       "        }    #T_970da1cc_3241_11ea_9397_24fd52cd3f76row5_col3 {\n",
       "            background-color:  #3d50c3;\n",
       "            color:  #f1f1f1;\n",
       "        }    #T_970da1cc_3241_11ea_9397_24fd52cd3f76row5_col4 {\n",
       "            background-color:  #5673e0;\n",
       "            color:  #000000;\n",
       "        }    #T_970da1cc_3241_11ea_9397_24fd52cd3f76row5_col5 {\n",
       "            background-color:  #b40426;\n",
       "            color:  #f1f1f1;\n",
       "        }    #T_970da1cc_3241_11ea_9397_24fd52cd3f76row5_col6 {\n",
       "            background-color:  #7295f4;\n",
       "            color:  #000000;\n",
       "        }    #T_970da1cc_3241_11ea_9397_24fd52cd3f76row5_col7 {\n",
       "            background-color:  #5875e1;\n",
       "            color:  #000000;\n",
       "        }    #T_970da1cc_3241_11ea_9397_24fd52cd3f76row5_col8 {\n",
       "            background-color:  #688aef;\n",
       "            color:  #000000;\n",
       "        }    #T_970da1cc_3241_11ea_9397_24fd52cd3f76row6_col0 {\n",
       "            background-color:  #3b4cc0;\n",
       "            color:  #f1f1f1;\n",
       "        }    #T_970da1cc_3241_11ea_9397_24fd52cd3f76row6_col1 {\n",
       "            background-color:  #4055c8;\n",
       "            color:  #f1f1f1;\n",
       "        }    #T_970da1cc_3241_11ea_9397_24fd52cd3f76row6_col2 {\n",
       "            background-color:  #6687ed;\n",
       "            color:  #000000;\n",
       "        }    #T_970da1cc_3241_11ea_9397_24fd52cd3f76row6_col3 {\n",
       "            background-color:  #5572df;\n",
       "            color:  #000000;\n",
       "        }    #T_970da1cc_3241_11ea_9397_24fd52cd3f76row6_col4 {\n",
       "            background-color:  #81a4fb;\n",
       "            color:  #000000;\n",
       "        }    #T_970da1cc_3241_11ea_9397_24fd52cd3f76row6_col5 {\n",
       "            background-color:  #3b4cc0;\n",
       "            color:  #f1f1f1;\n",
       "        }    #T_970da1cc_3241_11ea_9397_24fd52cd3f76row6_col6 {\n",
       "            background-color:  #b40426;\n",
       "            color:  #f1f1f1;\n",
       "        }    #T_970da1cc_3241_11ea_9397_24fd52cd3f76row6_col7 {\n",
       "            background-color:  #3b4cc0;\n",
       "            color:  #f1f1f1;\n",
       "        }    #T_970da1cc_3241_11ea_9397_24fd52cd3f76row6_col8 {\n",
       "            background-color:  #3b4cc0;\n",
       "            color:  #f1f1f1;\n",
       "        }    #T_970da1cc_3241_11ea_9397_24fd52cd3f76row7_col0 {\n",
       "            background-color:  #9fbfff;\n",
       "            color:  #000000;\n",
       "        }    #T_970da1cc_3241_11ea_9397_24fd52cd3f76row7_col1 {\n",
       "            background-color:  #3b4cc0;\n",
       "            color:  #f1f1f1;\n",
       "        }    #T_970da1cc_3241_11ea_9397_24fd52cd3f76row7_col2 {\n",
       "            background-color:  #5e7de7;\n",
       "            color:  #000000;\n",
       "        }    #T_970da1cc_3241_11ea_9397_24fd52cd3f76row7_col3 {\n",
       "            background-color:  #4055c8;\n",
       "            color:  #f1f1f1;\n",
       "        }    #T_970da1cc_3241_11ea_9397_24fd52cd3f76row7_col4 {\n",
       "            background-color:  #6b8df0;\n",
       "            color:  #000000;\n",
       "        }    #T_970da1cc_3241_11ea_9397_24fd52cd3f76row7_col5 {\n",
       "            background-color:  #6f92f3;\n",
       "            color:  #000000;\n",
       "        }    #T_970da1cc_3241_11ea_9397_24fd52cd3f76row7_col6 {\n",
       "            background-color:  #88abfd;\n",
       "            color:  #000000;\n",
       "        }    #T_970da1cc_3241_11ea_9397_24fd52cd3f76row7_col7 {\n",
       "            background-color:  #b40426;\n",
       "            color:  #f1f1f1;\n",
       "        }    #T_970da1cc_3241_11ea_9397_24fd52cd3f76row7_col8 {\n",
       "            background-color:  #84a7fc;\n",
       "            color:  #000000;\n",
       "        }    #T_970da1cc_3241_11ea_9397_24fd52cd3f76row8_col0 {\n",
       "            background-color:  #a5c3fe;\n",
       "            color:  #000000;\n",
       "        }    #T_970da1cc_3241_11ea_9397_24fd52cd3f76row8_col1 {\n",
       "            background-color:  #3b4cc0;\n",
       "            color:  #f1f1f1;\n",
       "        }    #T_970da1cc_3241_11ea_9397_24fd52cd3f76row8_col2 {\n",
       "            background-color:  #6180e9;\n",
       "            color:  #000000;\n",
       "        }    #T_970da1cc_3241_11ea_9397_24fd52cd3f76row8_col3 {\n",
       "            background-color:  #4055c8;\n",
       "            color:  #f1f1f1;\n",
       "        }    #T_970da1cc_3241_11ea_9397_24fd52cd3f76row8_col4 {\n",
       "            background-color:  #6485ec;\n",
       "            color:  #000000;\n",
       "        }    #T_970da1cc_3241_11ea_9397_24fd52cd3f76row8_col5 {\n",
       "            background-color:  #6687ed;\n",
       "            color:  #000000;\n",
       "        }    #T_970da1cc_3241_11ea_9397_24fd52cd3f76row8_col6 {\n",
       "            background-color:  #6f92f3;\n",
       "            color:  #000000;\n",
       "        }    #T_970da1cc_3241_11ea_9397_24fd52cd3f76row8_col7 {\n",
       "            background-color:  #6a8bef;\n",
       "            color:  #000000;\n",
       "        }    #T_970da1cc_3241_11ea_9397_24fd52cd3f76row8_col8 {\n",
       "            background-color:  #b40426;\n",
       "            color:  #f1f1f1;\n",
       "        }</style><table id=\"T_970da1cc_3241_11ea_9397_24fd52cd3f76\" ><thead>    <tr>        <th class=\"blank level0\" ></th>        <th class=\"col_heading level0 col0\" >SL</th>        <th class=\"col_heading level0 col1\" >LEV</th>        <th class=\"col_heading level0 col2\" >NP</th>        <th class=\"col_heading level0 col3\" >AMH</th>        <th class=\"col_heading level0 col4\" >TSC</th>        <th class=\"col_heading level0 col5\" >WA</th>        <th class=\"col_heading level0 col6\" >LEFT</th>        <th class=\"col_heading level0 col7\" >PL5Y</th>        <th class=\"col_heading level0 col8\" >SALI</th>    </tr></thead><tbody>\n",
       "                <tr>\n",
       "                        <th id=\"T_970da1cc_3241_11ea_9397_24fd52cd3f76level0_row0\" class=\"row_heading level0 row0\" >SL</th>\n",
       "                        <td id=\"T_970da1cc_3241_11ea_9397_24fd52cd3f76row0_col0\" class=\"data row0 col0\" >1</td>\n",
       "                        <td id=\"T_970da1cc_3241_11ea_9397_24fd52cd3f76row0_col1\" class=\"data row0 col1\" >0.11</td>\n",
       "                        <td id=\"T_970da1cc_3241_11ea_9397_24fd52cd3f76row0_col2\" class=\"data row0 col2\" >-0.14</td>\n",
       "                        <td id=\"T_970da1cc_3241_11ea_9397_24fd52cd3f76row0_col3\" class=\"data row0 col3\" >-0.02</td>\n",
       "                        <td id=\"T_970da1cc_3241_11ea_9397_24fd52cd3f76row0_col4\" class=\"data row0 col4\" >-0.1</td>\n",
       "                        <td id=\"T_970da1cc_3241_11ea_9397_24fd52cd3f76row0_col5\" class=\"data row0 col5\" >0.06</td>\n",
       "                        <td id=\"T_970da1cc_3241_11ea_9397_24fd52cd3f76row0_col6\" class=\"data row0 col6\" >-0.39</td>\n",
       "                        <td id=\"T_970da1cc_3241_11ea_9397_24fd52cd3f76row0_col7\" class=\"data row0 col7\" >0.03</td>\n",
       "                        <td id=\"T_970da1cc_3241_11ea_9397_24fd52cd3f76row0_col8\" class=\"data row0 col8\" >0.05</td>\n",
       "            </tr>\n",
       "            <tr>\n",
       "                        <th id=\"T_970da1cc_3241_11ea_9397_24fd52cd3f76level0_row1\" class=\"row_heading level0 row1\" >LEV</th>\n",
       "                        <td id=\"T_970da1cc_3241_11ea_9397_24fd52cd3f76row1_col0\" class=\"data row1 col0\" >0.11</td>\n",
       "                        <td id=\"T_970da1cc_3241_11ea_9397_24fd52cd3f76row1_col1\" class=\"data row1 col1\" >1</td>\n",
       "                        <td id=\"T_970da1cc_3241_11ea_9397_24fd52cd3f76row1_col2\" class=\"data row1 col2\" >0.35</td>\n",
       "                        <td id=\"T_970da1cc_3241_11ea_9397_24fd52cd3f76row1_col3\" class=\"data row1 col3\" >0.34</td>\n",
       "                        <td id=\"T_970da1cc_3241_11ea_9397_24fd52cd3f76row1_col4\" class=\"data row1 col4\" >0.13</td>\n",
       "                        <td id=\"T_970da1cc_3241_11ea_9397_24fd52cd3f76row1_col5\" class=\"data row1 col5\" >-0.01</td>\n",
       "                        <td id=\"T_970da1cc_3241_11ea_9397_24fd52cd3f76row1_col6\" class=\"data row1 col6\" >0.01</td>\n",
       "                        <td id=\"T_970da1cc_3241_11ea_9397_24fd52cd3f76row1_col7\" class=\"data row1 col7\" >-0.01</td>\n",
       "                        <td id=\"T_970da1cc_3241_11ea_9397_24fd52cd3f76row1_col8\" class=\"data row1 col8\" >-0.01</td>\n",
       "            </tr>\n",
       "            <tr>\n",
       "                        <th id=\"T_970da1cc_3241_11ea_9397_24fd52cd3f76level0_row2\" class=\"row_heading level0 row2\" >NP</th>\n",
       "                        <td id=\"T_970da1cc_3241_11ea_9397_24fd52cd3f76row2_col0\" class=\"data row2 col0\" >-0.14</td>\n",
       "                        <td id=\"T_970da1cc_3241_11ea_9397_24fd52cd3f76row2_col1\" class=\"data row2 col1\" >0.35</td>\n",
       "                        <td id=\"T_970da1cc_3241_11ea_9397_24fd52cd3f76row2_col2\" class=\"data row2 col2\" >1</td>\n",
       "                        <td id=\"T_970da1cc_3241_11ea_9397_24fd52cd3f76row2_col3\" class=\"data row2 col3\" >0.42</td>\n",
       "                        <td id=\"T_970da1cc_3241_11ea_9397_24fd52cd3f76row2_col4\" class=\"data row2 col4\" >0.2</td>\n",
       "                        <td id=\"T_970da1cc_3241_11ea_9397_24fd52cd3f76row2_col5\" class=\"data row2 col5\" >-0</td>\n",
       "                        <td id=\"T_970da1cc_3241_11ea_9397_24fd52cd3f76row2_col6\" class=\"data row2 col6\" >0.02</td>\n",
       "                        <td id=\"T_970da1cc_3241_11ea_9397_24fd52cd3f76row2_col7\" class=\"data row2 col7\" >-0.01</td>\n",
       "                        <td id=\"T_970da1cc_3241_11ea_9397_24fd52cd3f76row2_col8\" class=\"data row2 col8\" >-0</td>\n",
       "            </tr>\n",
       "            <tr>\n",
       "                        <th id=\"T_970da1cc_3241_11ea_9397_24fd52cd3f76level0_row3\" class=\"row_heading level0 row3\" >AMH</th>\n",
       "                        <td id=\"T_970da1cc_3241_11ea_9397_24fd52cd3f76row3_col0\" class=\"data row3 col0\" >-0.02</td>\n",
       "                        <td id=\"T_970da1cc_3241_11ea_9397_24fd52cd3f76row3_col1\" class=\"data row3 col1\" >0.34</td>\n",
       "                        <td id=\"T_970da1cc_3241_11ea_9397_24fd52cd3f76row3_col2\" class=\"data row3 col2\" >0.42</td>\n",
       "                        <td id=\"T_970da1cc_3241_11ea_9397_24fd52cd3f76row3_col3\" class=\"data row3 col3\" >1</td>\n",
       "                        <td id=\"T_970da1cc_3241_11ea_9397_24fd52cd3f76row3_col4\" class=\"data row3 col4\" >0.13</td>\n",
       "                        <td id=\"T_970da1cc_3241_11ea_9397_24fd52cd3f76row3_col5\" class=\"data row3 col5\" >-0.01</td>\n",
       "                        <td id=\"T_970da1cc_3241_11ea_9397_24fd52cd3f76row3_col6\" class=\"data row3 col6\" >0.07</td>\n",
       "                        <td id=\"T_970da1cc_3241_11ea_9397_24fd52cd3f76row3_col7\" class=\"data row3 col7\" >-0</td>\n",
       "                        <td id=\"T_970da1cc_3241_11ea_9397_24fd52cd3f76row3_col8\" class=\"data row3 col8\" >-0</td>\n",
       "            </tr>\n",
       "            <tr>\n",
       "                        <th id=\"T_970da1cc_3241_11ea_9397_24fd52cd3f76level0_row4\" class=\"row_heading level0 row4\" >TSC</th>\n",
       "                        <td id=\"T_970da1cc_3241_11ea_9397_24fd52cd3f76row4_col0\" class=\"data row4 col0\" >-0.1</td>\n",
       "                        <td id=\"T_970da1cc_3241_11ea_9397_24fd52cd3f76row4_col1\" class=\"data row4 col1\" >0.13</td>\n",
       "                        <td id=\"T_970da1cc_3241_11ea_9397_24fd52cd3f76row4_col2\" class=\"data row4 col2\" >0.2</td>\n",
       "                        <td id=\"T_970da1cc_3241_11ea_9397_24fd52cd3f76row4_col3\" class=\"data row4 col3\" >0.13</td>\n",
       "                        <td id=\"T_970da1cc_3241_11ea_9397_24fd52cd3f76row4_col4\" class=\"data row4 col4\" >1</td>\n",
       "                        <td id=\"T_970da1cc_3241_11ea_9397_24fd52cd3f76row4_col5\" class=\"data row4 col5\" >0</td>\n",
       "                        <td id=\"T_970da1cc_3241_11ea_9397_24fd52cd3f76row4_col6\" class=\"data row4 col6\" >0.14</td>\n",
       "                        <td id=\"T_970da1cc_3241_11ea_9397_24fd52cd3f76row4_col7\" class=\"data row4 col7\" >0.07</td>\n",
       "                        <td id=\"T_970da1cc_3241_11ea_9397_24fd52cd3f76row4_col8\" class=\"data row4 col8\" >0.05</td>\n",
       "            </tr>\n",
       "            <tr>\n",
       "                        <th id=\"T_970da1cc_3241_11ea_9397_24fd52cd3f76level0_row5\" class=\"row_heading level0 row5\" >WA</th>\n",
       "                        <td id=\"T_970da1cc_3241_11ea_9397_24fd52cd3f76row5_col0\" class=\"data row5 col0\" >0.06</td>\n",
       "                        <td id=\"T_970da1cc_3241_11ea_9397_24fd52cd3f76row5_col1\" class=\"data row5 col1\" >-0.01</td>\n",
       "                        <td id=\"T_970da1cc_3241_11ea_9397_24fd52cd3f76row5_col2\" class=\"data row5 col2\" >-0</td>\n",
       "                        <td id=\"T_970da1cc_3241_11ea_9397_24fd52cd3f76row5_col3\" class=\"data row5 col3\" >-0.01</td>\n",
       "                        <td id=\"T_970da1cc_3241_11ea_9397_24fd52cd3f76row5_col4\" class=\"data row5 col4\" >0</td>\n",
       "                        <td id=\"T_970da1cc_3241_11ea_9397_24fd52cd3f76row5_col5\" class=\"data row5 col5\" >1</td>\n",
       "                        <td id=\"T_970da1cc_3241_11ea_9397_24fd52cd3f76row5_col6\" class=\"data row5 col6\" >-0.15</td>\n",
       "                        <td id=\"T_970da1cc_3241_11ea_9397_24fd52cd3f76row5_col7\" class=\"data row5 col7\" >0.04</td>\n",
       "                        <td id=\"T_970da1cc_3241_11ea_9397_24fd52cd3f76row5_col8\" class=\"data row5 col8\" >0.01</td>\n",
       "            </tr>\n",
       "            <tr>\n",
       "                        <th id=\"T_970da1cc_3241_11ea_9397_24fd52cd3f76level0_row6\" class=\"row_heading level0 row6\" >LEFT</th>\n",
       "                        <td id=\"T_970da1cc_3241_11ea_9397_24fd52cd3f76row6_col0\" class=\"data row6 col0\" >-0.39</td>\n",
       "                        <td id=\"T_970da1cc_3241_11ea_9397_24fd52cd3f76row6_col1\" class=\"data row6 col1\" >0.01</td>\n",
       "                        <td id=\"T_970da1cc_3241_11ea_9397_24fd52cd3f76row6_col2\" class=\"data row6 col2\" >0.02</td>\n",
       "                        <td id=\"T_970da1cc_3241_11ea_9397_24fd52cd3f76row6_col3\" class=\"data row6 col3\" >0.07</td>\n",
       "                        <td id=\"T_970da1cc_3241_11ea_9397_24fd52cd3f76row6_col4\" class=\"data row6 col4\" >0.14</td>\n",
       "                        <td id=\"T_970da1cc_3241_11ea_9397_24fd52cd3f76row6_col5\" class=\"data row6 col5\" >-0.15</td>\n",
       "                        <td id=\"T_970da1cc_3241_11ea_9397_24fd52cd3f76row6_col6\" class=\"data row6 col6\" >1</td>\n",
       "                        <td id=\"T_970da1cc_3241_11ea_9397_24fd52cd3f76row6_col7\" class=\"data row6 col7\" >-0.06</td>\n",
       "                        <td id=\"T_970da1cc_3241_11ea_9397_24fd52cd3f76row6_col8\" class=\"data row6 col8\" >-0.16</td>\n",
       "            </tr>\n",
       "            <tr>\n",
       "                        <th id=\"T_970da1cc_3241_11ea_9397_24fd52cd3f76level0_row7\" class=\"row_heading level0 row7\" >PL5Y</th>\n",
       "                        <td id=\"T_970da1cc_3241_11ea_9397_24fd52cd3f76row7_col0\" class=\"data row7 col0\" >0.03</td>\n",
       "                        <td id=\"T_970da1cc_3241_11ea_9397_24fd52cd3f76row7_col1\" class=\"data row7 col1\" >-0.01</td>\n",
       "                        <td id=\"T_970da1cc_3241_11ea_9397_24fd52cd3f76row7_col2\" class=\"data row7 col2\" >-0.01</td>\n",
       "                        <td id=\"T_970da1cc_3241_11ea_9397_24fd52cd3f76row7_col3\" class=\"data row7 col3\" >-0</td>\n",
       "                        <td id=\"T_970da1cc_3241_11ea_9397_24fd52cd3f76row7_col4\" class=\"data row7 col4\" >0.07</td>\n",
       "                        <td id=\"T_970da1cc_3241_11ea_9397_24fd52cd3f76row7_col5\" class=\"data row7 col5\" >0.04</td>\n",
       "                        <td id=\"T_970da1cc_3241_11ea_9397_24fd52cd3f76row7_col6\" class=\"data row7 col6\" >-0.06</td>\n",
       "                        <td id=\"T_970da1cc_3241_11ea_9397_24fd52cd3f76row7_col7\" class=\"data row7 col7\" >1</td>\n",
       "                        <td id=\"T_970da1cc_3241_11ea_9397_24fd52cd3f76row7_col8\" class=\"data row7 col8\" >0.1</td>\n",
       "            </tr>\n",
       "            <tr>\n",
       "                        <th id=\"T_970da1cc_3241_11ea_9397_24fd52cd3f76level0_row8\" class=\"row_heading level0 row8\" >SALI</th>\n",
       "                        <td id=\"T_970da1cc_3241_11ea_9397_24fd52cd3f76row8_col0\" class=\"data row8 col0\" >0.05</td>\n",
       "                        <td id=\"T_970da1cc_3241_11ea_9397_24fd52cd3f76row8_col1\" class=\"data row8 col1\" >-0.01</td>\n",
       "                        <td id=\"T_970da1cc_3241_11ea_9397_24fd52cd3f76row8_col2\" class=\"data row8 col2\" >-0</td>\n",
       "                        <td id=\"T_970da1cc_3241_11ea_9397_24fd52cd3f76row8_col3\" class=\"data row8 col3\" >-0</td>\n",
       "                        <td id=\"T_970da1cc_3241_11ea_9397_24fd52cd3f76row8_col4\" class=\"data row8 col4\" >0.05</td>\n",
       "                        <td id=\"T_970da1cc_3241_11ea_9397_24fd52cd3f76row8_col5\" class=\"data row8 col5\" >0.01</td>\n",
       "                        <td id=\"T_970da1cc_3241_11ea_9397_24fd52cd3f76row8_col6\" class=\"data row8 col6\" >-0.16</td>\n",
       "                        <td id=\"T_970da1cc_3241_11ea_9397_24fd52cd3f76row8_col7\" class=\"data row8 col7\" >0.1</td>\n",
       "                        <td id=\"T_970da1cc_3241_11ea_9397_24fd52cd3f76row8_col8\" class=\"data row8 col8\" >1</td>\n",
       "            </tr>\n",
       "    </tbody></table>"
      ],
      "text/plain": [
       "<pandas.io.formats.style.Styler at 0x15c02a17320>"
      ]
     },
     "execution_count": 542,
     "metadata": {},
     "output_type": "execute_result"
    }
   ],
   "source": [
    "#Рассчитаем и визуализируем средствами Pandas\n",
    "corr = data.corr()\n",
    "corr = corr.round(2)\n",
    "corr.style.background_gradient(cmap='coolwarm')"
   ]
  },
  {
   "cell_type": "code",
   "execution_count": 543,
   "metadata": {},
   "outputs": [
    {
     "data": {
      "image/png": "[encoded data removed]",
      "text/plain": [
       "<Figure size 576x432 with 2 Axes>"
      ]
     },
     "metadata": {
      "needs_background": "light"
     },
     "output_type": "display_data"
    }
   ],
   "source": [
    "#И визуализируем средствами Seaborn\n",
    "ax = sns.heatmap(data.corr(),annot=True,cmap='RdYlGn') \n",
    "i, k = ax.get_ylim()\n",
    "ax.set_ylim(i+0.5, k-0.5)\n",
    "fig=plt.gcf()\n",
    "fig.set_size_inches(8,6)\n",
    "plt.show()"
   ]
  },
  {
   "cell_type": "markdown",
   "metadata": {},
   "source": [
    "**4. Визуализировать несколько взаимосвязей между переменными.**"
   ]
  },
  {
   "cell_type": "markdown",
   "metadata": {},
   "source": [
    "_Хотелось бы посмотреть на взаимосвязь наиболее сильно коррелирующих переменных, как то:_\n",
    "- LEFT-SL = Зависимость числа уволившихся от степени удовлетворенности, \n",
    "- LEV-NP = Зависимость результатов аттестатции от числа проектов сотрудника,\n",
    "- LEFT-SAL = Зависимость числа уволившихся от уровня зарплаты"
   ]
  },
  {
   "cell_type": "code",
   "execution_count": 545,
   "metadata": {},
   "outputs": [
    {
     "data": {
      "image/png": "[encoded data removed]",
      "text/plain": [
       "<Figure size 720x288 with 1 Axes>"
      ]
     },
     "metadata": {
      "needs_background": "light"
     },
     "output_type": "display_data"
    }
   ],
   "source": [
    "df = data.groupby('SL').sum().reset_index() #Используем sum, потому что критерий увольнения 0|1.\n",
    "plt.figure(figsize=(10,4))\n",
    "plt.bar(df['SL'], df['LEFT'], width = 0.05)\n",
    "plt.xlabel('Степень удовлетворенности')\n",
    "plt.ylabel('число увoльнений')\n",
    "plt.title('Зависимость числа увoльнений от степени удовлетворенности')\n",
    "plt.show()"
   ]
  },
  {
   "cell_type": "markdown",
   "metadata": {},
   "source": [
    "_Прикольно...  Чаще всего увольняются сотрудники с низкой стпенеью удовлетворенности (мотивации) = это понятно.  Но вот почему увольняются сотрудники с высокой и средней?  Надо посмотреть вообще распределение сотрудников по уровню мотивации._"
   ]
  },
  {
   "cell_type": "code",
   "execution_count": 546,
   "metadata": {},
   "outputs": [
    {
     "data": {
      "image/png": "[encoded data removed]",
      "text/plain": [
       "<Figure size 720x288 with 1 Axes>"
      ]
     },
     "metadata": {
      "needs_background": "light"
     },
     "output_type": "display_data"
    }
   ],
   "source": [
    "df = data.groupby('SL').count().reset_index() #Используем count,считаем всех.\n",
    "plt.figure(figsize=(10,4))\n",
    "plt.hist(data['SL'], width = 0.05)\n",
    "plt.xlabel('степень удовлетворенности')\n",
    "plt.ylabel('число сотрудников')\n",
    "plt.title('Распределение сотрудников по степени удовлетворенности')\n",
    "plt.show()"
   ]
  },
  {
   "cell_type": "markdown",
   "metadata": {},
   "source": [
    "_ну вот и разрешилась загадка.  Просто сотрудников с \"промежуточной\" мотивацией (от 0.1 до 0.4) мало.  Она или совсем низкая, или выше 0.4.  "
   ]
  },
  {
   "cell_type": "code",
   "execution_count": 547,
   "metadata": {},
   "outputs": [
    {
     "data": {
      "image/png": "[encoded data removed]",
      "text/plain": [
       "<Figure size 720x360 with 1 Axes>"
      ]
     },
     "metadata": {
      "needs_background": "light"
     },
     "output_type": "display_data"
    }
   ],
   "source": [
    "df = data.groupby('NP').mean().reset_index()\n",
    "plt.figure(figsize=(10,5))\n",
    "plt.bar(df['NP'], df['LEV'], width = 0.7)\n",
    "plt.xlabel('Число проектов у сотрудника')\n",
    "plt.ylim(0.5, 0.9)\n",
    "plt.ylabel('Средний балл на атестации')\n",
    "plt.title('Зависимость средней оценки сотрудника от числа проектов')\n",
    "plt.show()"
   ]
  },
  {
   "cell_type": "markdown",
   "metadata": {},
   "source": [
    "_Здесь все понятно - чем больше сотрудник делает проектов, тем выше его оценка на аттестации_"
   ]
  },
  {
   "cell_type": "code",
   "execution_count": 548,
   "metadata": {},
   "outputs": [
    {
     "name": "stdout",
     "output_type": "stream",
     "text": [
      "      SAL       SL      LEV     NP      AMH    TSC    WA  LEFT  PL5Y  SALI\n",
      "1     low  4395.11  5245.70  27800  1470491  25154  1040  2172    66     0\n",
      "2  medium  4008.23  4623.86  24582  1297827  22748   937  1317   181  6446\n",
      "0    high   788.55   871.25   4660   247236   4568   192    82    72  2474\n"
     ]
    },
    {
     "data": {
      "image/png": "[encoded data removed]",
      "text/plain": [
       "<Figure size 432x288 with 1 Axes>"
      ]
     },
     "metadata": {
      "needs_background": "light"
     },
     "output_type": "display_data"
    }
   ],
   "source": [
    "df = data.groupby('SAL').sum().reset_index().sort_values('LEFT', ascending = False)\n",
    "print(df)\n",
    "plt.figure(figsize=(6, 4))\n",
    "plt.bar(df['SAL'], df['LEFT'], width = 0.5)\n",
    "plt.xlabel('Уровень зарплаты')\n",
    "plt.ylabel('число увoльнений')\n",
    "plt.title('Число увoльнений от уровня зарплаты')\n",
    "plt.show()"
   ]
  },
  {
   "cell_type": "markdown",
   "metadata": {},
   "source": [
    "_Реже всего увольняются сотрудники с высокой зарплатой._"
   ]
  },
  {
   "cell_type": "markdown",
   "metadata": {},
   "source": [
    "**5. С использованием t-test статистики проверить взаимосвязи между несколькими переменными.**"
   ]
  },
  {
   "cell_type": "markdown",
   "metadata": {},
   "source": [
    "_Проверим взаимосвязь между степенью удовлетворенности сотрудников, работающих в различных депатраментах_"
   ]
  },
  {
   "cell_type": "code",
   "execution_count": 549,
   "metadata": {},
   "outputs": [
    {
     "data": {
      "text/plain": [
       "array(['sales', 'accounting', 'hr', 'technical', 'support', 'management',\n",
       "       'IT', 'product_mng', 'marketing', 'RandD'], dtype=object)"
      ]
     },
     "execution_count": 549,
     "metadata": {},
     "output_type": "execute_result"
    }
   ],
   "source": [
    "#Какие у нас есть департаменты\n",
    "data['DEP'].unique()"
   ]
  },
  {
   "cell_type": "markdown",
   "metadata": {},
   "source": [
    "_Далее посмотрим, насколько отличаются аттестационные оценки для сотрудников различных департаментов.  0 - гипотеза - различий нет.  Сделаем выборки для sales, technical и support_"
   ]
  },
  {
   "cell_type": "code",
   "execution_count": 550,
   "metadata": {},
   "outputs": [],
   "source": [
    "tech_dist = data[data['DEP'] == 'technical'].groupby('LEV').count().reset_index()[['LEV','SL']]\n",
    "supp_dist = data[data['DEP'] == 'support'].groupby('LEV').count().reset_index()[['LEV','SL']]\n",
    "sales_dist = data[data['DEP'] == 'sales'].groupby('LEV').count().reset_index()[['LEV','SL']]"
   ]
  },
  {
   "cell_type": "markdown",
   "metadata": {},
   "source": [
    "Сделаем единый датасет"
   ]
  },
  {
   "cell_type": "code",
   "execution_count": 551,
   "metadata": {},
   "outputs": [
    {
     "name": "stdout",
     "output_type": "stream",
     "text": [
      "<class 'pandas.core.frame.DataFrame'>\n",
      "Int64Index: 65 entries, 0 to 64\n",
      "Data columns (total 4 columns):\n",
      "LEV          65 non-null float64\n",
      "technical    65 non-null int64\n",
      "support      65 non-null int64\n",
      "sales        65 non-null int64\n",
      "dtypes: float64(1), int64(3)\n",
      "memory usage: 2.5 KB\n"
     ]
    }
   ],
   "source": [
    "tech_dist.columns = ['LEV','technical']\n",
    "supp_dist.columns = ['LEV','support']\n",
    "sales_dist.columns = ['LEV','sales']\n",
    "tech_dist = tech_dist.merge(supp_dist, on = 'LEV', how='inner')\n",
    "tech_dist = tech_dist.merge(sales_dist, on = 'LEV',how='inner')\n",
    "tech_dist.info()"
   ]
  },
  {
   "cell_type": "code",
   "execution_count": 552,
   "metadata": {},
   "outputs": [
    {
     "data": {
      "image/png": "[encoded data removed]",
      "text/plain": [
       "<Figure size 432x288 with 1 Axes>"
      ]
     },
     "metadata": {
      "needs_background": "light"
     },
     "output_type": "display_data"
    }
   ],
   "source": [
    "sns.distplot(tech_dist['technical'], kde=False, rug=True)\n",
    "sns.distplot(tech_dist['support'], kde=False, rug=True)\n",
    "sns.distplot(tech_dist['sales'], kde=False, rug=True)\n",
    "plt.title('Распределение оценок')\n",
    "plt.legend(['technical', 'support', 'sales'])\n",
    "plt.show()"
   ]
  },
  {
   "cell_type": "markdown",
   "metadata": {},
   "source": [
    "Нормализуем значения выборок"
   ]
  },
  {
   "cell_type": "code",
   "execution_count": 553,
   "metadata": {},
   "outputs": [],
   "source": [
    "headers = list(tech_dist.columns.values)"
   ]
  },
  {
   "cell_type": "code",
   "execution_count": 554,
   "metadata": {},
   "outputs": [],
   "source": [
    "from sklearn import preprocessing\n",
    "min_max_scaler = preprocessing.MinMaxScaler(feature_range=(0,1))\n",
    "\n",
    "np_scaled = min_max_scaler.fit_transform(tech_dist)\n",
    "dist_norm = pd.DataFrame(np_scaled)"
   ]
  },
  {
   "cell_type": "code",
   "execution_count": 555,
   "metadata": {},
   "outputs": [],
   "source": [
    "dist_norm.columns = headers"
   ]
  },
  {
   "cell_type": "code",
   "execution_count": 556,
   "metadata": {},
   "outputs": [
    {
     "data": {
      "text/plain": [
       "array([[<matplotlib.axes._subplots.AxesSubplot object at 0x0000015C02B79D30>,\n",
       "        <matplotlib.axes._subplots.AxesSubplot object at 0x0000015C0365AEB8>],\n",
       "       [<matplotlib.axes._subplots.AxesSubplot object at 0x0000015C034A1898>,\n",
       "        <matplotlib.axes._subplots.AxesSubplot object at 0x0000015C033D1518>]],\n",
       "      dtype=object)"
      ]
     },
     "execution_count": 556,
     "metadata": {},
     "output_type": "execute_result"
    },
    {
     "data": {
      "image/png": "[encoded data removed]",
      "text/plain": [
       "<Figure size 432x288 with 4 Axes>"
      ]
     },
     "metadata": {
      "needs_background": "light"
     },
     "output_type": "display_data"
    }
   ],
   "source": [
    "dist_norm[['technical', 'support', 'sales']].hist()"
   ]
  },
  {
   "cell_type": "markdown",
   "metadata": {},
   "source": [
    "Проверим распределения на нормальность "
   ]
  },
  {
   "cell_type": "code",
   "execution_count": 557,
   "metadata": {},
   "outputs": [
    {
     "name": "stdout",
     "output_type": "stream",
     "text": [
      "technical stat=5.214, p=0.074\n",
      "Похоже, Гаусс\n",
      "support stat=0.631, p=0.729\n",
      "Похоже, Гаусс\n",
      "sales stat=4.347, p=0.114\n",
      "Похоже, Гаусс\n"
     ]
    }
   ],
   "source": [
    "stat, p = normaltest( dist_norm['technical'])\n",
    "print('technical stat=%.3f, p=%.3f' % (stat, p))\n",
    "if p > 0.05:\n",
    "    print('Похоже, Гаусс')\n",
    "else:\n",
    "    print('Похоже, не Гаусс')\n",
    "    \n",
    "stat, p = normaltest( dist_norm['support'])\n",
    "print('support stat=%.3f, p=%.3f' % (stat, p))\n",
    "if p > 0.05:\n",
    "    print('Похоже, Гаусс')\n",
    "else:\n",
    "    print('Похоже, не Гаусс')\n",
    "    \n",
    "stat, p = normaltest( dist_norm['sales'])\n",
    "print('sales stat=%.3f, p=%.3f' % (stat, p))\n",
    "if p > 0.05:\n",
    "    print('Похоже, Гаусс')\n",
    "else:\n",
    "    print('Похоже, не Гаусс')"
   ]
  },
  {
   "cell_type": "markdown",
   "metadata": {},
   "source": [
    "Отлично.  Все распределения можно считать Гауссовыми.  Сделаем множественный ANOVA тест."
   ]
  },
  {
   "cell_type": "code",
   "execution_count": 558,
   "metadata": {},
   "outputs": [
    {
     "data": {
      "text/plain": [
       "F_onewayResult(statistic=3.173149208485238, pvalue=0.04407622150924132)"
      ]
     },
     "execution_count": 558,
     "metadata": {},
     "output_type": "execute_result"
    }
   ],
   "source": [
    "stats.f_oneway(dist_norm['technical'], dist_norm['support'], dist_norm['sales'])"
   ]
  },
  {
   "cell_type": "markdown",
   "metadata": {},
   "source": [
    "Так как результат p-value меньше 0.05, то мы отвергаем нулевую гипотезу о том, что нет различий в оценках сторудников разных департаметов.  Чуть не дотянули... Далее сравним из парными t - тестами."
   ]
  },
  {
   "cell_type": "code",
   "execution_count": 561,
   "metadata": {},
   "outputs": [
    {
     "name": "stdout",
     "output_type": "stream",
     "text": [
      "Ttest_indResult(statistic=2.465959194836879, pvalue=0.01498818907626302)\n"
     ]
    }
   ],
   "source": [
    "print(stats.ttest_ind(dist_norm['technical'], dist_norm['support']))"
   ]
  },
  {
   "cell_type": "markdown",
   "metadata": {},
   "source": [
    "Нулевая гипотеза для technical и support департаментов не подтверждается"
   ]
  },
  {
   "cell_type": "code",
   "execution_count": 562,
   "metadata": {},
   "outputs": [
    {
     "name": "stdout",
     "output_type": "stream",
     "text": [
      "Ttest_indResult(statistic=1.4585605524924488, pvalue=0.1471355666554297)\n"
     ]
    }
   ],
   "source": [
    "print(stats.ttest_ind(dist_norm['technical'], dist_norm['sales']))"
   ]
  },
  {
   "cell_type": "markdown",
   "metadata": {},
   "source": [
    "Нулевая гипотеза о зависимости выборок для technical и sales департементов подтверждается"
   ]
  },
  {
   "cell_type": "code",
   "execution_count": 563,
   "metadata": {},
   "outputs": [
    {
     "name": "stdout",
     "output_type": "stream",
     "text": [
      "Ttest_indResult(statistic=1.059931918130036, pvalue=0.2911715504506842)\n"
     ]
    }
   ],
   "source": [
    "print(stats.ttest_ind(dist_norm['sales'], dist_norm['support']))"
   ]
  },
  {
   "cell_type": "markdown",
   "metadata": {},
   "source": [
    "Нулевая гипотеза о схожести распределений оценок для департамента sales и support подтверждается."
   ]
  },
  {
   "cell_type": "markdown",
   "metadata": {},
   "source": [
    "_Основываясь на проведенном анализе, можно сделать вывод, что квалификация сотрудников, работающих в трех выбранных департаментах, распределяется похожим образом. Наибольшие отличия между сотрудниками technical и support департаментами._"
   ]
  },
  {
   "cell_type": "markdown",
   "metadata": {},
   "source": [
    "**6. Рассчитать сколько работников работает в каждом департаменте.**"
   ]
  },
  {
   "cell_type": "code",
   "execution_count": 565,
   "metadata": {
    "scrolled": true
   },
   "outputs": [
    {
     "name": "stdout",
     "output_type": "stream",
     "text": [
      "    department  headcount\n",
      "0           IT       1227\n",
      "1        RandD        787\n",
      "2   accounting        767\n",
      "3           hr        739\n",
      "4   management        630\n",
      "5    marketing        858\n",
      "6  product_mng        902\n",
      "7        sales       4140\n",
      "8      support       2229\n",
      "9    technical       2720\n"
     ]
    }
   ],
   "source": [
    "df = data.groupby('DEP').count().reset_index().iloc[:, 0:2]\n",
    "df.columns = ['department', 'headcount']\n",
    "print(df)"
   ]
  },
  {
   "cell_type": "code",
   "execution_count": 566,
   "metadata": {},
   "outputs": [
    {
     "data": {
      "image/png": "[encoded data removed]",
      "text/plain": [
       "<Figure size 720x360 with 1 Axes>"
      ]
     },
     "metadata": {
      "needs_background": "light"
     },
     "output_type": "display_data"
    }
   ],
   "source": [
    "#и еще так\n",
    "plt.figure(figsize=(10, 5))\n",
    "plt.barh(df['department'], df['headcount'])\n",
    "plt.ylabel('департамент')\n",
    "plt.xlabel('число сотрудников')\n",
    "plt.grid()\n",
    "plt.title('Распределение сотрудников по департаментам')\n",
    "plt.show()"
   ]
  },
  {
   "cell_type": "markdown",
   "metadata": {},
   "source": [
    "**7. Показать распределение сотрудников по зарплатам.**"
   ]
  },
  {
   "cell_type": "code",
   "execution_count": 567,
   "metadata": {},
   "outputs": [
    {
     "name": "stdout",
     "output_type": "stream",
     "text": [
      "   salary  headcount\n",
      "1     low       7316\n",
      "2  medium       6446\n",
      "0    high       1237\n"
     ]
    },
    {
     "data": {
      "image/png": "[encoded data removed]",
      "text/plain": [
       "<Figure size 432x288 with 1 Axes>"
      ]
     },
     "metadata": {
      "needs_background": "light"
     },
     "output_type": "display_data"
    }
   ],
   "source": [
    "df = data.groupby('SAL').count().reset_index().sort_values('LEFT', ascending = False).iloc[:, 0:2]\n",
    "df.columns = ['salary', \"headcount\"]\n",
    "print(df)\n",
    "plt.figure(figsize=(6, 4))\n",
    "plt.bar(df['salary'], df['headcount'], width = 0.5)\n",
    "plt.xlabel('Уровень зарплаты')\n",
    "plt.ylabel('Число сотрудников')\n",
    "plt.title('Распределение сотрудников по зарплатам')\n",
    "plt.show()"
   ]
  },
  {
   "cell_type": "markdown",
   "metadata": {},
   "source": [
    "**8. Показать распределение сотрудников по зарплатам совместно с департаментами.**"
   ]
  },
  {
   "cell_type": "code",
   "execution_count": 568,
   "metadata": {},
   "outputs": [
    {
     "data": {
      "text/html": [
       "<style  type=\"text/css\" >\n",
       "    #T_da9e0230_3242_11ea_b205_24fd52cd3f76row0_col2 {\n",
       "            width:  10em;\n",
       "             height:  80%;\n",
       "            background:  linear-gradient(90deg,#d65f5f 1.9%, transparent 1.9%);\n",
       "        }    #T_da9e0230_3242_11ea_b205_24fd52cd3f76row1_col2 {\n",
       "            width:  10em;\n",
       "             height:  80%;\n",
       "            background:  linear-gradient(90deg,#d65f5f 27.5%, transparent 27.5%);\n",
       "        }    #T_da9e0230_3242_11ea_b205_24fd52cd3f76row2_col2 {\n",
       "            width:  10em;\n",
       "             height:  80%;\n",
       "            background:  linear-gradient(90deg,#d65f5f 23.9%, transparent 23.9%);\n",
       "        }    #T_da9e0230_3242_11ea_b205_24fd52cd3f76row3_col2 {\n",
       "            width:  10em;\n",
       "             height:  80%;\n",
       "            background:  linear-gradient(90deg,#d65f5f 0.3%, transparent 0.3%);\n",
       "        }    #T_da9e0230_3242_11ea_b205_24fd52cd3f76row4_col2 {\n",
       "            width:  10em;\n",
       "             height:  80%;\n",
       "            background:  linear-gradient(90deg,#d65f5f 15.5%, transparent 15.5%);\n",
       "        }    #T_da9e0230_3242_11ea_b205_24fd52cd3f76row5_col2 {\n",
       "            width:  10em;\n",
       "             height:  80%;\n",
       "            background:  linear-gradient(90deg,#d65f5f 15.9%, transparent 15.9%);\n",
       "        }    #T_da9e0230_3242_11ea_b205_24fd52cd3f76row6_col2 {\n",
       "            width:  10em;\n",
       "             height:  80%;\n",
       "            background:  linear-gradient(90deg,#d65f5f 1.4%, transparent 1.4%);\n",
       "        }    #T_da9e0230_3242_11ea_b205_24fd52cd3f76row7_col2 {\n",
       "            width:  10em;\n",
       "             height:  80%;\n",
       "            background:  linear-gradient(90deg,#d65f5f 15.2%, transparent 15.2%);\n",
       "        }    #T_da9e0230_3242_11ea_b205_24fd52cd3f76row8_col2 {\n",
       "            width:  10em;\n",
       "             height:  80%;\n",
       "            background:  linear-gradient(90deg,#d65f5f 14.1%, transparent 14.1%);\n",
       "        }    #T_da9e0230_3242_11ea_b205_24fd52cd3f76row9_col2 {\n",
       "            width:  10em;\n",
       "             height:  80%;\n",
       "        }    #T_da9e0230_3242_11ea_b205_24fd52cd3f76row10_col2 {\n",
       "            width:  10em;\n",
       "             height:  80%;\n",
       "            background:  linear-gradient(90deg,#d65f5f 14.1%, transparent 14.1%);\n",
       "        }    #T_da9e0230_3242_11ea_b205_24fd52cd3f76row11_col2 {\n",
       "            width:  10em;\n",
       "             height:  80%;\n",
       "            background:  linear-gradient(90deg,#d65f5f 15.3%, transparent 15.3%);\n",
       "        }    #T_da9e0230_3242_11ea_b205_24fd52cd3f76row12_col2 {\n",
       "            width:  10em;\n",
       "             height:  80%;\n",
       "            background:  linear-gradient(90deg,#d65f5f 8.8%, transparent 8.8%);\n",
       "        }    #T_da9e0230_3242_11ea_b205_24fd52cd3f76row13_col2 {\n",
       "            width:  10em;\n",
       "             height:  80%;\n",
       "            background:  linear-gradient(90deg,#d65f5f 6.6%, transparent 6.6%);\n",
       "        }    #T_da9e0230_3242_11ea_b205_24fd52cd3f76row14_col2 {\n",
       "            width:  10em;\n",
       "             height:  80%;\n",
       "            background:  linear-gradient(90deg,#d65f5f 8.8%, transparent 8.8%);\n",
       "        }    #T_da9e0230_3242_11ea_b205_24fd52cd3f76row15_col2 {\n",
       "            width:  10em;\n",
       "             height:  80%;\n",
       "            background:  linear-gradient(90deg,#d65f5f 1.7%, transparent 1.7%);\n",
       "        }    #T_da9e0230_3242_11ea_b205_24fd52cd3f76row16_col2 {\n",
       "            width:  10em;\n",
       "             height:  80%;\n",
       "            background:  linear-gradient(90deg,#d65f5f 17.4%, transparent 17.4%);\n",
       "        }    #T_da9e0230_3242_11ea_b205_24fd52cd3f76row17_col2 {\n",
       "            width:  10em;\n",
       "             height:  80%;\n",
       "            background:  linear-gradient(90deg,#d65f5f 16.1%, transparent 16.1%);\n",
       "        }    #T_da9e0230_3242_11ea_b205_24fd52cd3f76row18_col2 {\n",
       "            width:  10em;\n",
       "             height:  80%;\n",
       "            background:  linear-gradient(90deg,#d65f5f 1.1%, transparent 1.1%);\n",
       "        }    #T_da9e0230_3242_11ea_b205_24fd52cd3f76row19_col2 {\n",
       "            width:  10em;\n",
       "             height:  80%;\n",
       "            background:  linear-gradient(90deg,#d65f5f 19.8%, transparent 19.8%);\n",
       "        }    #T_da9e0230_3242_11ea_b205_24fd52cd3f76row20_col2 {\n",
       "            width:  10em;\n",
       "             height:  80%;\n",
       "            background:  linear-gradient(90deg,#d65f5f 16.5%, transparent 16.5%);\n",
       "        }    #T_da9e0230_3242_11ea_b205_24fd52cd3f76row21_col2 {\n",
       "            width:  10em;\n",
       "             height:  80%;\n",
       "            background:  linear-gradient(90deg,#d65f5f 10.9%, transparent 10.9%);\n",
       "        }    #T_da9e0230_3242_11ea_b205_24fd52cd3f76row22_col2 {\n",
       "            width:  10em;\n",
       "             height:  80%;\n",
       "            background:  linear-gradient(90deg,#d65f5f 100.0%, transparent 100.0%);\n",
       "        }    #T_da9e0230_3242_11ea_b205_24fd52cd3f76row23_col2 {\n",
       "            width:  10em;\n",
       "             height:  80%;\n",
       "            background:  linear-gradient(90deg,#d65f5f 84.1%, transparent 84.1%);\n",
       "        }    #T_da9e0230_3242_11ea_b205_24fd52cd3f76row24_col2 {\n",
       "            width:  10em;\n",
       "             height:  80%;\n",
       "            background:  linear-gradient(90deg,#d65f5f 4.7%, transparent 4.7%);\n",
       "        }    #T_da9e0230_3242_11ea_b205_24fd52cd3f76row25_col2 {\n",
       "            width:  10em;\n",
       "             height:  80%;\n",
       "            background:  linear-gradient(90deg,#d65f5f 53.6%, transparent 53.6%);\n",
       "        }    #T_da9e0230_3242_11ea_b205_24fd52cd3f76row26_col2 {\n",
       "            width:  10em;\n",
       "             height:  80%;\n",
       "            background:  linear-gradient(90deg,#d65f5f 43.7%, transparent 43.7%);\n",
       "        }    #T_da9e0230_3242_11ea_b205_24fd52cd3f76row27_col2 {\n",
       "            width:  10em;\n",
       "             height:  80%;\n",
       "            background:  linear-gradient(90deg,#d65f5f 7.6%, transparent 7.6%);\n",
       "        }    #T_da9e0230_3242_11ea_b205_24fd52cd3f76row28_col2 {\n",
       "            width:  10em;\n",
       "             height:  80%;\n",
       "            background:  linear-gradient(90deg,#d65f5f 64.6%, transparent 64.6%);\n",
       "        }    #T_da9e0230_3242_11ea_b205_24fd52cd3f76row29_col2 {\n",
       "            width:  10em;\n",
       "             height:  80%;\n",
       "            background:  linear-gradient(90deg,#d65f5f 53.7%, transparent 53.7%);\n",
       "        }</style><table id=\"T_da9e0230_3242_11ea_b205_24fd52cd3f76\" ><thead>    <tr>        <th class=\"blank level0\" ></th>        <th class=\"col_heading level0 col0\" >DEP</th>        <th class=\"col_heading level0 col1\" >SAL</th>        <th class=\"col_heading level0 col2\" >SL</th>    </tr></thead><tbody>\n",
       "                <tr>\n",
       "                        <th id=\"T_da9e0230_3242_11ea_b205_24fd52cd3f76level0_row0\" class=\"row_heading level0 row0\" >0</th>\n",
       "                        <td id=\"T_da9e0230_3242_11ea_b205_24fd52cd3f76row0_col0\" class=\"data row0 col0\" >IT</td>\n",
       "                        <td id=\"T_da9e0230_3242_11ea_b205_24fd52cd3f76row0_col1\" class=\"data row0 col1\" >high</td>\n",
       "                        <td id=\"T_da9e0230_3242_11ea_b205_24fd52cd3f76row0_col2\" class=\"data row0 col2\" >83</td>\n",
       "            </tr>\n",
       "            <tr>\n",
       "                        <th id=\"T_da9e0230_3242_11ea_b205_24fd52cd3f76level0_row1\" class=\"row_heading level0 row1\" >1</th>\n",
       "                        <td id=\"T_da9e0230_3242_11ea_b205_24fd52cd3f76row1_col0\" class=\"data row1 col0\" >IT</td>\n",
       "                        <td id=\"T_da9e0230_3242_11ea_b205_24fd52cd3f76row1_col1\" class=\"data row1 col1\" >low</td>\n",
       "                        <td id=\"T_da9e0230_3242_11ea_b205_24fd52cd3f76row1_col2\" class=\"data row1 col2\" >609</td>\n",
       "            </tr>\n",
       "            <tr>\n",
       "                        <th id=\"T_da9e0230_3242_11ea_b205_24fd52cd3f76level0_row2\" class=\"row_heading level0 row2\" >2</th>\n",
       "                        <td id=\"T_da9e0230_3242_11ea_b205_24fd52cd3f76row2_col0\" class=\"data row2 col0\" >IT</td>\n",
       "                        <td id=\"T_da9e0230_3242_11ea_b205_24fd52cd3f76row2_col1\" class=\"data row2 col1\" >medium</td>\n",
       "                        <td id=\"T_da9e0230_3242_11ea_b205_24fd52cd3f76row2_col2\" class=\"data row2 col2\" >535</td>\n",
       "            </tr>\n",
       "            <tr>\n",
       "                        <th id=\"T_da9e0230_3242_11ea_b205_24fd52cd3f76level0_row3\" class=\"row_heading level0 row3\" >3</th>\n",
       "                        <td id=\"T_da9e0230_3242_11ea_b205_24fd52cd3f76row3_col0\" class=\"data row3 col0\" >RandD</td>\n",
       "                        <td id=\"T_da9e0230_3242_11ea_b205_24fd52cd3f76row3_col1\" class=\"data row3 col1\" >high</td>\n",
       "                        <td id=\"T_da9e0230_3242_11ea_b205_24fd52cd3f76row3_col2\" class=\"data row3 col2\" >51</td>\n",
       "            </tr>\n",
       "            <tr>\n",
       "                        <th id=\"T_da9e0230_3242_11ea_b205_24fd52cd3f76level0_row4\" class=\"row_heading level0 row4\" >4</th>\n",
       "                        <td id=\"T_da9e0230_3242_11ea_b205_24fd52cd3f76row4_col0\" class=\"data row4 col0\" >RandD</td>\n",
       "                        <td id=\"T_da9e0230_3242_11ea_b205_24fd52cd3f76row4_col1\" class=\"data row4 col1\" >low</td>\n",
       "                        <td id=\"T_da9e0230_3242_11ea_b205_24fd52cd3f76row4_col2\" class=\"data row4 col2\" >364</td>\n",
       "            </tr>\n",
       "            <tr>\n",
       "                        <th id=\"T_da9e0230_3242_11ea_b205_24fd52cd3f76level0_row5\" class=\"row_heading level0 row5\" >5</th>\n",
       "                        <td id=\"T_da9e0230_3242_11ea_b205_24fd52cd3f76row5_col0\" class=\"data row5 col0\" >RandD</td>\n",
       "                        <td id=\"T_da9e0230_3242_11ea_b205_24fd52cd3f76row5_col1\" class=\"data row5 col1\" >medium</td>\n",
       "                        <td id=\"T_da9e0230_3242_11ea_b205_24fd52cd3f76row5_col2\" class=\"data row5 col2\" >372</td>\n",
       "            </tr>\n",
       "            <tr>\n",
       "                        <th id=\"T_da9e0230_3242_11ea_b205_24fd52cd3f76level0_row6\" class=\"row_heading level0 row6\" >6</th>\n",
       "                        <td id=\"T_da9e0230_3242_11ea_b205_24fd52cd3f76row6_col0\" class=\"data row6 col0\" >accounting</td>\n",
       "                        <td id=\"T_da9e0230_3242_11ea_b205_24fd52cd3f76row6_col1\" class=\"data row6 col1\" >high</td>\n",
       "                        <td id=\"T_da9e0230_3242_11ea_b205_24fd52cd3f76row6_col2\" class=\"data row6 col2\" >74</td>\n",
       "            </tr>\n",
       "            <tr>\n",
       "                        <th id=\"T_da9e0230_3242_11ea_b205_24fd52cd3f76level0_row7\" class=\"row_heading level0 row7\" >7</th>\n",
       "                        <td id=\"T_da9e0230_3242_11ea_b205_24fd52cd3f76row7_col0\" class=\"data row7 col0\" >accounting</td>\n",
       "                        <td id=\"T_da9e0230_3242_11ea_b205_24fd52cd3f76row7_col1\" class=\"data row7 col1\" >low</td>\n",
       "                        <td id=\"T_da9e0230_3242_11ea_b205_24fd52cd3f76row7_col2\" class=\"data row7 col2\" >358</td>\n",
       "            </tr>\n",
       "            <tr>\n",
       "                        <th id=\"T_da9e0230_3242_11ea_b205_24fd52cd3f76level0_row8\" class=\"row_heading level0 row8\" >8</th>\n",
       "                        <td id=\"T_da9e0230_3242_11ea_b205_24fd52cd3f76row8_col0\" class=\"data row8 col0\" >accounting</td>\n",
       "                        <td id=\"T_da9e0230_3242_11ea_b205_24fd52cd3f76row8_col1\" class=\"data row8 col1\" >medium</td>\n",
       "                        <td id=\"T_da9e0230_3242_11ea_b205_24fd52cd3f76row8_col2\" class=\"data row8 col2\" >335</td>\n",
       "            </tr>\n",
       "            <tr>\n",
       "                        <th id=\"T_da9e0230_3242_11ea_b205_24fd52cd3f76level0_row9\" class=\"row_heading level0 row9\" >9</th>\n",
       "                        <td id=\"T_da9e0230_3242_11ea_b205_24fd52cd3f76row9_col0\" class=\"data row9 col0\" >hr</td>\n",
       "                        <td id=\"T_da9e0230_3242_11ea_b205_24fd52cd3f76row9_col1\" class=\"data row9 col1\" >high</td>\n",
       "                        <td id=\"T_da9e0230_3242_11ea_b205_24fd52cd3f76row9_col2\" class=\"data row9 col2\" >45</td>\n",
       "            </tr>\n",
       "            <tr>\n",
       "                        <th id=\"T_da9e0230_3242_11ea_b205_24fd52cd3f76level0_row10\" class=\"row_heading level0 row10\" >10</th>\n",
       "                        <td id=\"T_da9e0230_3242_11ea_b205_24fd52cd3f76row10_col0\" class=\"data row10 col0\" >hr</td>\n",
       "                        <td id=\"T_da9e0230_3242_11ea_b205_24fd52cd3f76row10_col1\" class=\"data row10 col1\" >low</td>\n",
       "                        <td id=\"T_da9e0230_3242_11ea_b205_24fd52cd3f76row10_col2\" class=\"data row10 col2\" >335</td>\n",
       "            </tr>\n",
       "            <tr>\n",
       "                        <th id=\"T_da9e0230_3242_11ea_b205_24fd52cd3f76level0_row11\" class=\"row_heading level0 row11\" >11</th>\n",
       "                        <td id=\"T_da9e0230_3242_11ea_b205_24fd52cd3f76row11_col0\" class=\"data row11 col0\" >hr</td>\n",
       "                        <td id=\"T_da9e0230_3242_11ea_b205_24fd52cd3f76row11_col1\" class=\"data row11 col1\" >medium</td>\n",
       "                        <td id=\"T_da9e0230_3242_11ea_b205_24fd52cd3f76row11_col2\" class=\"data row11 col2\" >359</td>\n",
       "            </tr>\n",
       "            <tr>\n",
       "                        <th id=\"T_da9e0230_3242_11ea_b205_24fd52cd3f76level0_row12\" class=\"row_heading level0 row12\" >12</th>\n",
       "                        <td id=\"T_da9e0230_3242_11ea_b205_24fd52cd3f76row12_col0\" class=\"data row12 col0\" >management</td>\n",
       "                        <td id=\"T_da9e0230_3242_11ea_b205_24fd52cd3f76row12_col1\" class=\"data row12 col1\" >high</td>\n",
       "                        <td id=\"T_da9e0230_3242_11ea_b205_24fd52cd3f76row12_col2\" class=\"data row12 col2\" >225</td>\n",
       "            </tr>\n",
       "            <tr>\n",
       "                        <th id=\"T_da9e0230_3242_11ea_b205_24fd52cd3f76level0_row13\" class=\"row_heading level0 row13\" >13</th>\n",
       "                        <td id=\"T_da9e0230_3242_11ea_b205_24fd52cd3f76row13_col0\" class=\"data row13 col0\" >management</td>\n",
       "                        <td id=\"T_da9e0230_3242_11ea_b205_24fd52cd3f76row13_col1\" class=\"data row13 col1\" >low</td>\n",
       "                        <td id=\"T_da9e0230_3242_11ea_b205_24fd52cd3f76row13_col2\" class=\"data row13 col2\" >180</td>\n",
       "            </tr>\n",
       "            <tr>\n",
       "                        <th id=\"T_da9e0230_3242_11ea_b205_24fd52cd3f76level0_row14\" class=\"row_heading level0 row14\" >14</th>\n",
       "                        <td id=\"T_da9e0230_3242_11ea_b205_24fd52cd3f76row14_col0\" class=\"data row14 col0\" >management</td>\n",
       "                        <td id=\"T_da9e0230_3242_11ea_b205_24fd52cd3f76row14_col1\" class=\"data row14 col1\" >medium</td>\n",
       "                        <td id=\"T_da9e0230_3242_11ea_b205_24fd52cd3f76row14_col2\" class=\"data row14 col2\" >225</td>\n",
       "            </tr>\n",
       "            <tr>\n",
       "                        <th id=\"T_da9e0230_3242_11ea_b205_24fd52cd3f76level0_row15\" class=\"row_heading level0 row15\" >15</th>\n",
       "                        <td id=\"T_da9e0230_3242_11ea_b205_24fd52cd3f76row15_col0\" class=\"data row15 col0\" >marketing</td>\n",
       "                        <td id=\"T_da9e0230_3242_11ea_b205_24fd52cd3f76row15_col1\" class=\"data row15 col1\" >high</td>\n",
       "                        <td id=\"T_da9e0230_3242_11ea_b205_24fd52cd3f76row15_col2\" class=\"data row15 col2\" >80</td>\n",
       "            </tr>\n",
       "            <tr>\n",
       "                        <th id=\"T_da9e0230_3242_11ea_b205_24fd52cd3f76level0_row16\" class=\"row_heading level0 row16\" >16</th>\n",
       "                        <td id=\"T_da9e0230_3242_11ea_b205_24fd52cd3f76row16_col0\" class=\"data row16 col0\" >marketing</td>\n",
       "                        <td id=\"T_da9e0230_3242_11ea_b205_24fd52cd3f76row16_col1\" class=\"data row16 col1\" >low</td>\n",
       "                        <td id=\"T_da9e0230_3242_11ea_b205_24fd52cd3f76row16_col2\" class=\"data row16 col2\" >402</td>\n",
       "            </tr>\n",
       "            <tr>\n",
       "                        <th id=\"T_da9e0230_3242_11ea_b205_24fd52cd3f76level0_row17\" class=\"row_heading level0 row17\" >17</th>\n",
       "                        <td id=\"T_da9e0230_3242_11ea_b205_24fd52cd3f76row17_col0\" class=\"data row17 col0\" >marketing</td>\n",
       "                        <td id=\"T_da9e0230_3242_11ea_b205_24fd52cd3f76row17_col1\" class=\"data row17 col1\" >medium</td>\n",
       "                        <td id=\"T_da9e0230_3242_11ea_b205_24fd52cd3f76row17_col2\" class=\"data row17 col2\" >376</td>\n",
       "            </tr>\n",
       "            <tr>\n",
       "                        <th id=\"T_da9e0230_3242_11ea_b205_24fd52cd3f76level0_row18\" class=\"row_heading level0 row18\" >18</th>\n",
       "                        <td id=\"T_da9e0230_3242_11ea_b205_24fd52cd3f76row18_col0\" class=\"data row18 col0\" >product_mng</td>\n",
       "                        <td id=\"T_da9e0230_3242_11ea_b205_24fd52cd3f76row18_col1\" class=\"data row18 col1\" >high</td>\n",
       "                        <td id=\"T_da9e0230_3242_11ea_b205_24fd52cd3f76row18_col2\" class=\"data row18 col2\" >68</td>\n",
       "            </tr>\n",
       "            <tr>\n",
       "                        <th id=\"T_da9e0230_3242_11ea_b205_24fd52cd3f76level0_row19\" class=\"row_heading level0 row19\" >19</th>\n",
       "                        <td id=\"T_da9e0230_3242_11ea_b205_24fd52cd3f76row19_col0\" class=\"data row19 col0\" >product_mng</td>\n",
       "                        <td id=\"T_da9e0230_3242_11ea_b205_24fd52cd3f76row19_col1\" class=\"data row19 col1\" >low</td>\n",
       "                        <td id=\"T_da9e0230_3242_11ea_b205_24fd52cd3f76row19_col2\" class=\"data row19 col2\" >451</td>\n",
       "            </tr>\n",
       "            <tr>\n",
       "                        <th id=\"T_da9e0230_3242_11ea_b205_24fd52cd3f76level0_row20\" class=\"row_heading level0 row20\" >20</th>\n",
       "                        <td id=\"T_da9e0230_3242_11ea_b205_24fd52cd3f76row20_col0\" class=\"data row20 col0\" >product_mng</td>\n",
       "                        <td id=\"T_da9e0230_3242_11ea_b205_24fd52cd3f76row20_col1\" class=\"data row20 col1\" >medium</td>\n",
       "                        <td id=\"T_da9e0230_3242_11ea_b205_24fd52cd3f76row20_col2\" class=\"data row20 col2\" >383</td>\n",
       "            </tr>\n",
       "            <tr>\n",
       "                        <th id=\"T_da9e0230_3242_11ea_b205_24fd52cd3f76level0_row21\" class=\"row_heading level0 row21\" >21</th>\n",
       "                        <td id=\"T_da9e0230_3242_11ea_b205_24fd52cd3f76row21_col0\" class=\"data row21 col0\" >sales</td>\n",
       "                        <td id=\"T_da9e0230_3242_11ea_b205_24fd52cd3f76row21_col1\" class=\"data row21 col1\" >high</td>\n",
       "                        <td id=\"T_da9e0230_3242_11ea_b205_24fd52cd3f76row21_col2\" class=\"data row21 col2\" >269</td>\n",
       "            </tr>\n",
       "            <tr>\n",
       "                        <th id=\"T_da9e0230_3242_11ea_b205_24fd52cd3f76level0_row22\" class=\"row_heading level0 row22\" >22</th>\n",
       "                        <td id=\"T_da9e0230_3242_11ea_b205_24fd52cd3f76row22_col0\" class=\"data row22 col0\" >sales</td>\n",
       "                        <td id=\"T_da9e0230_3242_11ea_b205_24fd52cd3f76row22_col1\" class=\"data row22 col1\" >low</td>\n",
       "                        <td id=\"T_da9e0230_3242_11ea_b205_24fd52cd3f76row22_col2\" class=\"data row22 col2\" >2099</td>\n",
       "            </tr>\n",
       "            <tr>\n",
       "                        <th id=\"T_da9e0230_3242_11ea_b205_24fd52cd3f76level0_row23\" class=\"row_heading level0 row23\" >23</th>\n",
       "                        <td id=\"T_da9e0230_3242_11ea_b205_24fd52cd3f76row23_col0\" class=\"data row23 col0\" >sales</td>\n",
       "                        <td id=\"T_da9e0230_3242_11ea_b205_24fd52cd3f76row23_col1\" class=\"data row23 col1\" >medium</td>\n",
       "                        <td id=\"T_da9e0230_3242_11ea_b205_24fd52cd3f76row23_col2\" class=\"data row23 col2\" >1772</td>\n",
       "            </tr>\n",
       "            <tr>\n",
       "                        <th id=\"T_da9e0230_3242_11ea_b205_24fd52cd3f76level0_row24\" class=\"row_heading level0 row24\" >24</th>\n",
       "                        <td id=\"T_da9e0230_3242_11ea_b205_24fd52cd3f76row24_col0\" class=\"data row24 col0\" >support</td>\n",
       "                        <td id=\"T_da9e0230_3242_11ea_b205_24fd52cd3f76row24_col1\" class=\"data row24 col1\" >high</td>\n",
       "                        <td id=\"T_da9e0230_3242_11ea_b205_24fd52cd3f76row24_col2\" class=\"data row24 col2\" >141</td>\n",
       "            </tr>\n",
       "            <tr>\n",
       "                        <th id=\"T_da9e0230_3242_11ea_b205_24fd52cd3f76level0_row25\" class=\"row_heading level0 row25\" >25</th>\n",
       "                        <td id=\"T_da9e0230_3242_11ea_b205_24fd52cd3f76row25_col0\" class=\"data row25 col0\" >support</td>\n",
       "                        <td id=\"T_da9e0230_3242_11ea_b205_24fd52cd3f76row25_col1\" class=\"data row25 col1\" >low</td>\n",
       "                        <td id=\"T_da9e0230_3242_11ea_b205_24fd52cd3f76row25_col2\" class=\"data row25 col2\" >1146</td>\n",
       "            </tr>\n",
       "            <tr>\n",
       "                        <th id=\"T_da9e0230_3242_11ea_b205_24fd52cd3f76level0_row26\" class=\"row_heading level0 row26\" >26</th>\n",
       "                        <td id=\"T_da9e0230_3242_11ea_b205_24fd52cd3f76row26_col0\" class=\"data row26 col0\" >support</td>\n",
       "                        <td id=\"T_da9e0230_3242_11ea_b205_24fd52cd3f76row26_col1\" class=\"data row26 col1\" >medium</td>\n",
       "                        <td id=\"T_da9e0230_3242_11ea_b205_24fd52cd3f76row26_col2\" class=\"data row26 col2\" >942</td>\n",
       "            </tr>\n",
       "            <tr>\n",
       "                        <th id=\"T_da9e0230_3242_11ea_b205_24fd52cd3f76level0_row27\" class=\"row_heading level0 row27\" >27</th>\n",
       "                        <td id=\"T_da9e0230_3242_11ea_b205_24fd52cd3f76row27_col0\" class=\"data row27 col0\" >technical</td>\n",
       "                        <td id=\"T_da9e0230_3242_11ea_b205_24fd52cd3f76row27_col1\" class=\"data row27 col1\" >high</td>\n",
       "                        <td id=\"T_da9e0230_3242_11ea_b205_24fd52cd3f76row27_col2\" class=\"data row27 col2\" >201</td>\n",
       "            </tr>\n",
       "            <tr>\n",
       "                        <th id=\"T_da9e0230_3242_11ea_b205_24fd52cd3f76level0_row28\" class=\"row_heading level0 row28\" >28</th>\n",
       "                        <td id=\"T_da9e0230_3242_11ea_b205_24fd52cd3f76row28_col0\" class=\"data row28 col0\" >technical</td>\n",
       "                        <td id=\"T_da9e0230_3242_11ea_b205_24fd52cd3f76row28_col1\" class=\"data row28 col1\" >low</td>\n",
       "                        <td id=\"T_da9e0230_3242_11ea_b205_24fd52cd3f76row28_col2\" class=\"data row28 col2\" >1372</td>\n",
       "            </tr>\n",
       "            <tr>\n",
       "                        <th id=\"T_da9e0230_3242_11ea_b205_24fd52cd3f76level0_row29\" class=\"row_heading level0 row29\" >29</th>\n",
       "                        <td id=\"T_da9e0230_3242_11ea_b205_24fd52cd3f76row29_col0\" class=\"data row29 col0\" >technical</td>\n",
       "                        <td id=\"T_da9e0230_3242_11ea_b205_24fd52cd3f76row29_col1\" class=\"data row29 col1\" >medium</td>\n",
       "                        <td id=\"T_da9e0230_3242_11ea_b205_24fd52cd3f76row29_col2\" class=\"data row29 col2\" >1147</td>\n",
       "            </tr>\n",
       "    </tbody></table>"
      ],
      "text/plain": [
       "<pandas.io.formats.style.Styler at 0x15c0309af98>"
      ]
     },
     "execution_count": 568,
     "metadata": {},
     "output_type": "execute_result"
    }
   ],
   "source": [
    "df = data.groupby(['DEP', 'SAL']).count().reset_index().iloc[:, 0:3]\n",
    "df.style.bar()"
   ]
  },
  {
   "cell_type": "code",
   "execution_count": 569,
   "metadata": {},
   "outputs": [
    {
     "data": {
      "text/html": [
       "<div>\n",
       "<style scoped>\n",
       "    .dataframe tbody tr th:only-of-type {\n",
       "        vertical-align: middle;\n",
       "    }\n",
       "\n",
       "    .dataframe tbody tr th {\n",
       "        vertical-align: top;\n",
       "    }\n",
       "\n",
       "    .dataframe thead th {\n",
       "        text-align: right;\n",
       "    }\n",
       "</style>\n",
       "<table border=\"1\" class=\"dataframe\">\n",
       "  <thead>\n",
       "    <tr style=\"text-align: right;\">\n",
       "      <th>SAL</th>\n",
       "      <th>high</th>\n",
       "      <th>low</th>\n",
       "      <th>medium</th>\n",
       "    </tr>\n",
       "    <tr>\n",
       "      <th>DEP</th>\n",
       "      <th></th>\n",
       "      <th></th>\n",
       "      <th></th>\n",
       "    </tr>\n",
       "  </thead>\n",
       "  <tbody>\n",
       "    <tr>\n",
       "      <td>IT</td>\n",
       "      <td>83</td>\n",
       "      <td>609</td>\n",
       "      <td>535</td>\n",
       "    </tr>\n",
       "    <tr>\n",
       "      <td>RandD</td>\n",
       "      <td>51</td>\n",
       "      <td>364</td>\n",
       "      <td>372</td>\n",
       "    </tr>\n",
       "    <tr>\n",
       "      <td>accounting</td>\n",
       "      <td>74</td>\n",
       "      <td>358</td>\n",
       "      <td>335</td>\n",
       "    </tr>\n",
       "    <tr>\n",
       "      <td>hr</td>\n",
       "      <td>45</td>\n",
       "      <td>335</td>\n",
       "      <td>359</td>\n",
       "    </tr>\n",
       "    <tr>\n",
       "      <td>management</td>\n",
       "      <td>225</td>\n",
       "      <td>180</td>\n",
       "      <td>225</td>\n",
       "    </tr>\n",
       "    <tr>\n",
       "      <td>marketing</td>\n",
       "      <td>80</td>\n",
       "      <td>402</td>\n",
       "      <td>376</td>\n",
       "    </tr>\n",
       "    <tr>\n",
       "      <td>product_mng</td>\n",
       "      <td>68</td>\n",
       "      <td>451</td>\n",
       "      <td>383</td>\n",
       "    </tr>\n",
       "    <tr>\n",
       "      <td>sales</td>\n",
       "      <td>269</td>\n",
       "      <td>2099</td>\n",
       "      <td>1772</td>\n",
       "    </tr>\n",
       "    <tr>\n",
       "      <td>support</td>\n",
       "      <td>141</td>\n",
       "      <td>1146</td>\n",
       "      <td>942</td>\n",
       "    </tr>\n",
       "    <tr>\n",
       "      <td>technical</td>\n",
       "      <td>201</td>\n",
       "      <td>1372</td>\n",
       "      <td>1147</td>\n",
       "    </tr>\n",
       "  </tbody>\n",
       "</table>\n",
       "</div>"
      ],
      "text/plain": [
       "SAL          high   low  medium\n",
       "DEP                            \n",
       "IT             83   609     535\n",
       "RandD          51   364     372\n",
       "accounting     74   358     335\n",
       "hr             45   335     359\n",
       "management    225   180     225\n",
       "marketing      80   402     376\n",
       "product_mng    68   451     383\n",
       "sales         269  2099    1772\n",
       "support       141  1146     942\n",
       "technical     201  1372    1147"
      ]
     },
     "execution_count": 569,
     "metadata": {},
     "output_type": "execute_result"
    }
   ],
   "source": [
    "pivot_df = df.pivot(index='DEP', columns='SAL', values='SL')\n",
    "pivot_df"
   ]
  },
  {
   "cell_type": "code",
   "execution_count": 570,
   "metadata": {},
   "outputs": [
    {
     "data": {
      "text/plain": [
       "<matplotlib.axes._subplots.AxesSubplot at 0x15c02e852e8>"
      ]
     },
     "execution_count": 570,
     "metadata": {},
     "output_type": "execute_result"
    },
    {
     "data": {
      "image/png": "[encoded data removed]",
      "text/plain": [
       "<Figure size 720x360 with 1 Axes>"
      ]
     },
     "metadata": {
      "needs_background": "light"
     },
     "output_type": "display_data"
    }
   ],
   "source": [
    "colors = [\"b\",\"g\",\"r\"]\n",
    "pivot_df.loc[:,['low', 'medium','high']].plot.bar(stacked=True, color=colors, figsize=(10,5))"
   ]
  },
  {
   "cell_type": "markdown",
   "metadata": {},
   "source": [
    "**9. Сколько сотрудников покинули компанию.**"
   ]
  },
  {
   "cell_type": "code",
   "execution_count": 571,
   "metadata": {},
   "outputs": [
    {
     "name": "stdout",
     "output_type": "stream",
     "text": [
      "Компанию покинули  3571 сотрудников\n"
     ]
    }
   ],
   "source": [
    "print(\"Компанию покинули \", len(data[data['LEFT'] == 1]), \"сотрудников\")"
   ]
  },
  {
   "cell_type": "markdown",
   "metadata": {},
   "source": [
    "**10. Проверить несколько гипотез для данных, чтобы понять почему сотрудники покидают компанию.**"
   ]
  },
  {
   "cell_type": "markdown",
   "metadata": {},
   "source": [
    "_Сначала пострим зависимость числа уволившихся сотрудников от нескольких переменных._"
   ]
  },
  {
   "cell_type": "code",
   "execution_count": 572,
   "metadata": {
    "scrolled": true
   },
   "outputs": [
    {
     "data": {
      "image/png": "[encoded data removed]",
      "text/plain": [
       "<Figure size 864x576 with 8 Axes>"
      ]
     },
     "metadata": {
      "needs_background": "light"
     },
     "output_type": "display_data"
    }
   ],
   "source": [
    "factors = ['SL', 'LEV', 'NP', 'AMH', 'TSC', 'WA', 'PL5Y', 'SALI']\n",
    "\n",
    "fig, ax = plt.subplots(2,4, figsize = (12,8))\n",
    "\n",
    "k = 0\n",
    "for i in range(2):\n",
    "    for j in range(4):\n",
    "        var = factors[k]\n",
    "        df = data.groupby(var).sum().reset_index()[[var,'LEFT']]\n",
    "        ax[i,j].set(title = var)\n",
    "        ax[i,j].bar(df[var], df['LEFT'], width = 0.1)\n",
    "        k += 1\n",
    "    \n",
    "plt.show()\n",
    "\n"
   ]
  },
  {
   "cell_type": "markdown",
   "metadata": {},
   "source": [
    "_Визуальный анализ распределений позволяет предположить, что наиболее \"увольняемые\" сотрудики: а)  имеют низкую мотивацию; б) Работают с менее, чем 3 - мя проектами; в) Имели инциденты на рабочем месте; г) Не повышались в течение последних 5 - ти лет; д) Получают низкую и среднюю зарплату._"
   ]
  },
  {
   "cell_type": "markdown",
   "metadata": {},
   "source": [
    "_Выдвинем первую гипотезy:_\n",
    "1. С большой вероятностью причиной увольнения является отсутствие повышений грейда за последние пять лет"
   ]
  },
  {
   "cell_type": "code",
   "execution_count": 412,
   "metadata": {},
   "outputs": [
    {
     "data": {
      "text/plain": [
       "0    3552\n",
       "1      19\n",
       "Name: LEFT, dtype: int64"
      ]
     },
     "execution_count": 412,
     "metadata": {},
     "output_type": "execute_result"
    }
   ],
   "source": [
    "data.groupby('PL5Y').sum().reset_index()['LEFT']"
   ]
  },
  {
   "cell_type": "markdown",
   "metadata": {},
   "source": [
    "Ну тут даже проверять нечего.  Более 99% всех уволившихся - сотрудники, не получавшие повышения в течение последних пяти лет."
   ]
  },
  {
   "cell_type": "code",
   "execution_count": 420,
   "metadata": {},
   "outputs": [
    {
     "data": {
      "text/html": [
       "<div>\n",
       "<style scoped>\n",
       "    .dataframe tbody tr th:only-of-type {\n",
       "        vertical-align: middle;\n",
       "    }\n",
       "\n",
       "    .dataframe tbody tr th {\n",
       "        vertical-align: top;\n",
       "    }\n",
       "\n",
       "    .dataframe thead th {\n",
       "        text-align: right;\n",
       "    }\n",
       "</style>\n",
       "<table border=\"1\" class=\"dataframe\">\n",
       "  <thead>\n",
       "    <tr style=\"text-align: right;\">\n",
       "      <th></th>\n",
       "      <th>SAL</th>\n",
       "      <th>LEFT</th>\n",
       "    </tr>\n",
       "  </thead>\n",
       "  <tbody>\n",
       "    <tr>\n",
       "      <td>0</td>\n",
       "      <td>high</td>\n",
       "      <td>82</td>\n",
       "    </tr>\n",
       "    <tr>\n",
       "      <td>1</td>\n",
       "      <td>low</td>\n",
       "      <td>2172</td>\n",
       "    </tr>\n",
       "    <tr>\n",
       "      <td>2</td>\n",
       "      <td>medium</td>\n",
       "      <td>1317</td>\n",
       "    </tr>\n",
       "  </tbody>\n",
       "</table>\n",
       "</div>"
      ],
      "text/plain": [
       "      SAL  LEFT\n",
       "0    high    82\n",
       "1     low  2172\n",
       "2  medium  1317"
      ]
     },
     "execution_count": 420,
     "metadata": {},
     "output_type": "execute_result"
    }
   ],
   "source": [
    "data.groupby('SAL').sum().reset_index()[['SAL','LEFT']]"
   ]
  },
  {
   "cell_type": "markdown",
   "metadata": {},
   "source": [
    "То же самое можно сказать про зарплату, как причину увольнения - более 97% уволившихся, люди с маленькой и средней зарплатой."
   ]
  },
  {
   "cell_type": "markdown",
   "metadata": {},
   "source": [
    "_Следовательно, указанные выше две причины являются основными причинами увольнений сотрудников.  Далее попробуем исследовать менее явные закономероности. Сформулируем гиптезу:  число уволившихся сотрудников не зависит от оценки, полученной на аттестации.  Для проверки этой гипотезы сформируем две выборки: уволившиеся с низкой оценкой и уволившиеся с высокой оценкой.  Граница - медиана в столбце LEV = 0.72_  "
   ]
  },
  {
   "cell_type": "code",
   "execution_count": 573,
   "metadata": {},
   "outputs": [],
   "source": [
    "left_low = data[(data['LEV'] <= 0.72) & (data['LEFT'] == 1)].groupby('LEV').sum().reset_index()[['LEV', 'LEFT']]\n",
    "left_high = data[(data['LEV'] > 0.72) & (data['LEFT'] == 1)].groupby('LEV').sum().reset_index()[['LEV', 'LEFT']]"
   ]
  },
  {
   "cell_type": "code",
   "execution_count": 574,
   "metadata": {},
   "outputs": [
    {
     "data": {
      "text/plain": [
       "<BarContainer object of 28 artists>"
      ]
     },
     "execution_count": 574,
     "metadata": {},
     "output_type": "execute_result"
    },
    {
     "data": {
      "image/png": "[encoded data removed]",
      "text/plain": [
       "<Figure size 936x360 with 2 Axes>"
      ]
     },
     "metadata": {
      "needs_background": "light"
     },
     "output_type": "display_data"
    }
   ],
   "source": [
    "fig, ax = plt.subplots(1,2, figsize = (13,5))\n",
    "ax[0].set(title = 'Увольнения с низкой оценкой', \n",
    "          xlabel = 'Оценка', \n",
    "          ylabel = 'Число')\n",
    "ax[1].set(title = 'Увольнения с высокой оценкой', \n",
    "          xlabel = 'Оценка', \n",
    "          ylabel = 'Число')\n",
    "ax[0].grid(True)\n",
    "ax[1].grid(True)\n",
    "ax[0].bar(left_low['LEV'], left_low['LEFT'], width = 0.01)\n",
    "ax[1].bar(left_high['LEV'], left_high['LEFT'], width = 0.01)"
   ]
  },
  {
   "cell_type": "code",
   "execution_count": 575,
   "metadata": {},
   "outputs": [
    {
     "name": "stdout",
     "output_type": "stream",
     "text": [
      "Число уволившихся с низкой оценкой =  1681 \n",
      "Число уволившихся с высокой оценкой =  1890\n"
     ]
    }
   ],
   "source": [
    "print(\"Число уволившихся с низкой оценкой = \", left_low['LEFT'].sum(), \\\n",
    "      \"\\nЧисло уволившихся с высокой оценкой = \", left_high['LEFT'].sum())"
   ]
  },
  {
   "cell_type": "markdown",
   "metadata": {},
   "source": [
    "_Гипотеза подтвердилась - число уволившихся не зависит от оценки на последней аттестации._"
   ]
  },
  {
   "cell_type": "code",
   "execution_count": null,
   "metadata": {},
   "outputs": [],
   "source": []
  }
 ],
 "metadata": {
  "kernelspec": {
   "display_name": "Python 3",
   "language": "python",
   "name": "python3"
  },
  "language_info": {
   "codemirror_mode": {
    "name": "ipython",
    "version": 3
   },
   "file_extension": ".py",
   "mimetype": "text/x-python",
   "name": "python",
   "nbconvert_exporter": "python",
   "pygments_lexer": "ipython3",
   "version": "3.7.1"
  }
 },
 "nbformat": 4,
 "nbformat_minor": 2
}
