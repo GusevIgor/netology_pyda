{
 "cells": [
  {
   "cell_type": "markdown",
   "metadata": {},
   "source": [
    "# Домашняя работа №3"
   ]
  },
  {
   "cell_type": "markdown",
   "metadata": {},
   "source": [
    "### Задача 1"
   ]
  },
  {
   "cell_type": "markdown",
   "metadata": {},
   "source": [
    "Дана статистика рекламных каналов по объемам продаж. Напишите скрипт, который возвращает название канала с максимальным объемом.\n",
    "Т. е. в данном примере скрипт должен возвращать “yandex”.\n",
    "stats = {“facebook”: 55, “yandex”: 120, “vk”: 115, “google”: 99, “email”: 42, “ok”: 98}"
   ]
  },
  {
   "cell_type": "code",
   "execution_count": null,
   "metadata": {},
   "outputs": [],
   "source": [
    "stats = {'facebook': 55, 'yandex': 120, 'vk': 115, 'google': 99, 'email': 42, 'ok': 98}"
   ]
  },
  {
   "cell_type": "code",
   "execution_count": null,
   "metadata": {},
   "outputs": [],
   "source": [
    "#Если в множестве несколько равных максимальных элементов, \n",
    "#то нужно его пройти все и вывести в виде списка\n",
    "max_ch = max(stats.values())\n",
    "result = [x for x, y in stats.items() if y == max_ch]\n",
    "result[0]   #Так выводим, потому что условие задачи.  Вообще весь список надо выводить."
   ]
  },
  {
   "cell_type": "code",
   "execution_count": null,
   "metadata": {},
   "outputs": [],
   "source": [
    "#и еще так\n",
    "max_ch = max(stats.values())\n",
    "result = {x : y for x, y in stats.items() if y == max_ch}\n",
    "result    #Вывод отличается от установленного заданием, поэтому можно сделать так\n",
    "list(result.keys())[0]"
   ]
  },
  {
   "cell_type": "code",
   "execution_count": null,
   "metadata": {},
   "outputs": [],
   "source": [
    "#А можно еще так\n",
    "max_ch = max(stats.values())\n",
    "result = sorted(x for x, y in stats.items() if y == max_ch)\n",
    "result[0]"
   ]
  },
  {
   "cell_type": "code",
   "execution_count": null,
   "metadata": {},
   "outputs": [],
   "source": [
    "#Если нам достаточно одного максимального элемента, то можно так...\n",
    "result = sorted(stats.items(), key = lambda x: -x[1])\n",
    "result[0][0]"
   ]
  },
  {
   "cell_type": "code",
   "execution_count": null,
   "metadata": {},
   "outputs": [],
   "source": [
    "#Вот так еще\n",
    "result = max([(y, x) for x, y in stats.items()])\n",
    "result[1]"
   ]
  },
  {
   "cell_type": "markdown",
   "metadata": {},
   "source": [
    "### Задача 2"
   ]
  },
  {
   "cell_type": "markdown",
   "metadata": {},
   "source": [
    "Есть подозрение, что некоторые описания содержат много дубликатов одних и тех же слов. Т. е. могут быть переоптимизированными. Для каждого описания товара выведите на экран разницу между количеством уникальных слов и общим количеством слов в этом описании."
   ]
  },
  {
   "cell_type": "code",
   "execution_count": null,
   "metadata": {},
   "outputs": [],
   "source": [
    "descriptions = [\n",
    "['браслет', 'xiaomi', 'mi', 'band', '2.', 'умный', 'браслет', 'xiaomi', 'mi', 'лидер', 'в', 'линейке', 'xiaomi.', 'фитнес', 'браслет', 'для', 'android', '4.4,', 'ios', '7,', 'экран', 'oled.', 'лучший', 'выбор', 'xiaomi'],\n",
    "['браслет', 'huawei', 'honor', 'band', '3.', 'фитнес', 'браслет', 'влагозащищенный', 'сенсорный', 'экран', 'android,', 'ios', 'мониторинг', 'сна'],\n",
    "['браслет', 'samsung', 'gear', 'fit2', 'pro.', 'влагозащищенный', 'сенсорный', 'amoled-экран', 'мониторинг', 'сна,', 'калорий,', 'новинка', 'samsung'],\n",
    "]\n"
   ]
  },
  {
   "cell_type": "code",
   "execution_count": null,
   "metadata": {},
   "outputs": [],
   "source": [
    "[len(x) - len(set(x)) for x in descriptions]"
   ]
  },
  {
   "cell_type": "markdown",
   "metadata": {},
   "source": [
    "### Задача 3"
   ]
  },
  {
   "cell_type": "code",
   "execution_count": null,
   "metadata": {},
   "outputs": [],
   "source": [
    "В примере поиска с помощью кортежей мы использовали 3 столбца. \n",
    "Напишите функцию, которая формирует словарь для поиска по n столбцам."
   ]
  },
  {
   "cell_type": "code",
   "execution_count": null,
   "metadata": {},
   "outputs": [],
   "source": [
    "#Если мы используем тот - же файл, что и на лекции, то придется ограничить n <= 3\n",
    "while True:\n",
    "    line = input(\"Введите шаблон поиска через запятую -->\")\n",
    "    line = line.split()   #Я не знаю, почему, но конструкция line.strip().split(\",\") не убирает пробелы\n",
    "    line = \"\".join(line)  #пришлось сделать так...\n",
    "    line_to_find = tuple(line.split(\",\"))\n",
    "    num_cols = len(line_to_find)\n",
    "    if num_cols <= 3:\n",
    "        break\n",
    "    else:\n",
    "        print(\"Количество столбцов не должно превышать 3\")"
   ]
  },
  {
   "cell_type": "code",
   "execution_count": null,
   "metadata": {},
   "outputs": [],
   "source": [
    "stats_dict = {}\n",
    "with open('stats.csv') as f:\n",
    "    for line in f:\n",
    "        line = line.strip().split(',')\n",
    "        stats_dict[tuple(line[:num_cols])] = line[num_cols]"
   ]
  },
  {
   "cell_type": "code",
   "execution_count": null,
   "metadata": {},
   "outputs": [],
   "source": [
    "try:\n",
    "    cost = stats_dict[line_to_find]\n",
    "except KeyError:\n",
    "    print(\"К сожалению, шаблон, что Вы ввели, отсутствует в массиве\\nНо не расстраивайтесь, в следующий раз Вам повезет больше!\")\n",
    "else:\n",
    "    print(cost)"
   ]
  },
  {
   "cell_type": "code",
   "execution_count": null,
   "metadata": {},
   "outputs": [],
   "source": []
  }
 ],
 "metadata": {
  "kernelspec": {
   "display_name": "Python 3",
   "language": "python",
   "name": "python3"
  },
  "language_info": {
   "codemirror_mode": {
    "name": "ipython",
    "version": 3
   },
   "file_extension": ".py",
   "mimetype": "text/x-python",
   "name": "python",
   "nbconvert_exporter": "python",
   "pygments_lexer": "ipython3",
   "version": "3.7.1"
  }
 },
 "nbformat": 4,
 "nbformat_minor": 2
}
